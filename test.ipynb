{
 "cells": [
  {
   "cell_type": "code",
   "execution_count": 3,
   "metadata": {
    "collapsed": false
   },
   "outputs": [],
   "source": [
    "import tweepy, time, csv\n",
    "from datetime import datetime\n",
    "import numpy as np\n",
    "from textblob import TextBlob\n",
    "import pandas as pd\n",
    "import datetime"
   ]
  },
  {
   "cell_type": "code",
   "execution_count": 258,
   "metadata": {
    "collapsed": false
   },
   "outputs": [
    {
     "name": "stdout",
     "output_type": "stream",
     "text": [
      "[':/']\n",
      "adfa \u0007 / \n"
     ]
    }
   ],
   "source": [
    "import re\n",
    " \n",
    "emoticons_str = r\"\"\"\n",
    "    (?:\n",
    "        [:=;] # Eyes\n",
    "        [oO\\-]? # Nose (optional)\n",
    "        [D\\)\\]\\(\\]/\\\\OpP] # Mouth\n",
    "    )\"\"\"\n",
    " \n",
    "regex_str = [\n",
    "    emoticons_str,\n",
    "    r'<[^>]+>', # HTML tags\n",
    "    r'(?:@[\\w_]+)', # @-mentions\n",
    "#     r\"(?:\\#+[\\w_]+[\\w\\'_\\-]*[\\w_]+)\", # hash-tags\n",
    "    r'http[s]?://(?:[a-z]|[0-9]|[$-_@.&amp;+]|[!*\\(\\),]|(?:%[0-9a-f][0-9a-f]))+', # URLs\n",
    " \n",
    "#     r'(?:(?:\\d+,?)+(?:\\.?\\d+)?)', # numbers\n",
    "#     r\"(?:[a-z][a-z'\\-_]+[a-z])\", # words with - and '\n",
    "#     r'(?:[\\w_]+)', # other words\n",
    "#     r'(?:\\S)' # anything else\n",
    "]\n",
    "    \n",
    "tokens_re = re.compile(r'('+'|'.join(regex_str)+')', re.VERBOSE | re.IGNORECASE)\n",
    "emoticon_re = re.compile(r'^'+emoticons_str+'$', re.VERBOSE | re.IGNORECASE)\n",
    " \n",
    "def tokenize(s):\n",
    "    return tokens_re.findall(s)\n",
    " \n",
    "def preprocess(s, lowercase=False):\n",
    "    tokens = tokenize(s)\n",
    "    if lowercase:\n",
    "        tokens = [token if emoticon_re.search(token) else token.lower() for token in tokens]\n",
    "    return tokens\n",
    "\n",
    "tweet = 'Brexit : when you disempower dsash1223251 h2341324 3 poor 3134 foreigners only to hand power to rich foreigners. The Law of Unintended Consequences is a bitch. https:// twitter.com/solange_lebour aadfag/status/793236361402785793 …'\n",
    "st1 = 'adfa qd22a345676545678fa/dfa/\\da\\df\\aqwerq/wew /23rq41/sadfa /435134134 '\n",
    "st = re.sub(r'http[s]?://.(?:[a-z]|[0-9]|[$-_@.&amp;+]|[!*\\(\\),]|(?:%[0-9a-f][0-9a-f]\\s))+','', tweet)\n",
    "st = re.sub(r'(?:@[\\w_]+)', '',st)\n",
    "st = re.sub(r\" \\#\",'',st)\n",
    "st = re.sub(r'.(?:(?:\\d+,?)+(?:\\.?\\d+)?)','',st)\n",
    "st1 = re.sub(r'[\\w]+/(?:[a-z]|[0-9]|[$-_@.&amp;+]|[!*\\(\\),]|(?:%[0-9a-f][0-9a-f]\\s))+', '', st1)\n",
    "st1 = re.sub(r'(?:./[0-9]+)', '', st1)\n",
    "print(preprocess(tweet))\n",
    "print(st1)"
   ]
  },
  {
   "cell_type": "code",
   "execution_count": 87,
   "metadata": {
    "collapsed": false
   },
   "outputs": [
    {
     "data": {
      "text/plain": [
       "['\\n    (?:\\n        [:=;] # Eyes\\n        [oO\\\\-]? # Nose (optional)\\n        [D\\\\)\\\\]\\\\(\\\\]/\\\\\\\\OpP] # Mouth\\n    )',\n",
       " '<[^>]+>',\n",
       " '(?:@[\\\\w_]+)',\n",
       " 'http[s]?://(?:[a-z]|[0-9]|[$-_@.&amp;+]|[!*\\\\(\\\\),]|(?:%[0-9a-f][0-9a-f]))+']"
      ]
     },
     "execution_count": 87,
     "metadata": {},
     "output_type": "execute_result"
    }
   ],
   "source": [
    "regex_str"
   ]
  },
  {
   "cell_type": "code",
   "execution_count": 2,
   "metadata": {
    "collapsed": true
   },
   "outputs": [],
   "source": [
    "Month = ['Jan','Feb','Mar','Apr','May','June','July','Aug','Sept','Oct','Nov']"
   ]
  },
  {
   "cell_type": "code",
   "execution_count": 3,
   "metadata": {
    "collapsed": false
   },
   "outputs": [],
   "source": [
    "consumer_key = 'r7hTS2dvvHkdNabqjv9JEU6zn'\n",
    "consumer_secret = 'jMuCrQPclUkbiMLsjBqOLso7pEKj5M4BMsJxVu8l7pKh7RFIc6'\n",
    "\n",
    "auth = tweepy.AppAuthHandler(consumer_key, consumer_secret)\n",
    "api = tweepy.API(auth, wait_on_rate_limit=True, wait_on_rate_limit_notify=True)\n",
    "\n",
    "if (not api):\n",
    "    print (\"Can't Authenticate\")\n",
    "    sys.exit(-1)"
   ]
  },
  {
   "cell_type": "code",
   "execution_count": 35,
   "metadata": {
    "collapsed": false,
    "scrolled": true
   },
   "outputs": [
    {
     "name": "stdout",
     "output_type": "stream",
     "text": [
      "Downloading tweets In Aug.\n",
      "Downloaded 100 tweets\n",
      "Downloaded 100 tweets, Saved to database\n",
      "Running time:0.7134239673614502\n"
     ]
    }
   ],
   "source": [
    "searchQuery = '#Brexit'  # this is what we're searching for\n",
    "tweetsPerQry = 100  # this is the max the API permits\n",
    "\n",
    "# If results from a specific ID onwards are reqd, set since_id to that ID.\n",
    "# else default to no lower limit, go as far back as API allows\n",
    "sinceId = None\n",
    "\n",
    "# If results only below a specific ID are, set max_id to that ID.\n",
    "# else default to no upper limit, start from the most recent tweet matching the search query.\n",
    "max_id = -1\n",
    "\n",
    "# fname = 'Tweets.csv'\n",
    "# f = open('Tweets.csv', \"+w\")\n",
    "# csv_writer = csv.writer(f)\n",
    "t = time.time()\n",
    "tweetCount = 0\n",
    "maxT = 100\n",
    "print(\"Downloading tweets In Aug.\")\n",
    "\n",
    "while tweetCount < maxT:\n",
    "    try:\n",
    "        if (max_id <= 0):\n",
    "            \n",
    "            if (not sinceId):\n",
    "                new_tweets = api.search(q=searchQuery, count=tweetsPerQry)\n",
    "            else:\n",
    "                new_tweets = api.search(q=searchQuery, count=tweetsPerQry,\n",
    "                                        since_id=sinceId)\n",
    "        else:\n",
    "            if (not sinceId):\n",
    "                new_tweets = api.search(q=searchQuery, count=tweetsPerQry,\n",
    "                                        max_id=str(max_id - 1))\n",
    "            else:\n",
    "                new_tweets = api.search(q=searchQuery, count=tweetsPerQry,\n",
    "                                        max_id=str(max_id - 1),\n",
    "                                        since_id=sinceId)\n",
    "        if not new_tweets:\n",
    "            print(\"No more tweets found\")\n",
    "            break\n",
    "        \n",
    "#         Aug = False;\n",
    "#         randomList = np.random.randint(0, len(new_tweets), [len(new_tweets),])\n",
    "#         for index in randomList:\n",
    "#             status = new_tweets[index]\n",
    "#             if status._json['lang'] != 'en': continue\n",
    "            \n",
    "#             date = datetime.strptime(status._json['created_at'],'%a %b %d %H:%M:%S +%f %Y')\n",
    "#             if date.month == 11: \n",
    "#                 continue\n",
    "#             else:\n",
    "#                 Aug = True\n",
    "#             break\n",
    "    \n",
    "#         if Aug: break\n",
    "        tweetCount +=100\n",
    "        print(\"Downloaded {0} tweets\".format(tweetCount))\n",
    "        max_id = new_tweets[-1].id\n",
    "    except tweepy.TweepError as e:\n",
    "        # Just exit if any error\n",
    "        print(\"some error : \" + str(e))\n",
    "        break\n",
    "#     finally: \n",
    "#         f.close()\n",
    "print (\"Downloaded {0} tweets, Saved to database\".format(tweetCount))\n",
    "print(\"Running time:{}\".format(time.time() - t))"
   ]
  },
  {
   "cell_type": "code",
   "execution_count": 45,
   "metadata": {
    "collapsed": false
   },
   "outputs": [
    {
     "name": "stdout",
     "output_type": "stream",
     "text": [
      "['RT', '@GrowGreenTeam', ':', 'We', 'must', 'protect', 'the', '#environment', 'post', '-', '#Brexit', 'for', 'people', ',', 'the', 'planet', ',', 'and', 'the', '#animals', '.', 'Sign', 'and', 'share', 'if', 'you', 'agree', ':', 'htt', '…']\n"
     ]
    }
   ],
   "source": [
    "print(preprocess(status._json['text']))"
   ]
  },
  {
   "cell_type": "code",
   "execution_count": 43,
   "metadata": {
    "collapsed": true
   },
   "outputs": [],
   "source": [
    "status = new_tweets[3]"
   ]
  },
  {
   "cell_type": "code",
   "execution_count": 31,
   "metadata": {
    "collapsed": false
   },
   "outputs": [
    {
     "data": {
      "text/plain": [
       "dict_keys(['retweet_count', 'id', 'in_reply_to_status_id_str', 'truncated', 'in_reply_to_user_id', 'entities', 'metadata', 'id_str', 'lang', 'is_quote_status', 'in_reply_to_user_id_str', 'geo', 'text', 'created_at', 'user', 'coordinates', 'in_reply_to_screen_name', 'source', 'favorite_count', 'favorited', 'in_reply_to_status_id', 'contributors', 'retweeted_status', 'place', 'retweeted'])"
      ]
     },
     "execution_count": 31,
     "metadata": {},
     "output_type": "execute_result"
    }
   ],
   "source": [
    "status._json.keys()"
   ]
  },
  {
   "cell_type": "code",
   "execution_count": 44,
   "metadata": {
    "collapsed": false
   },
   "outputs": [
    {
     "data": {
      "text/plain": [
       "'RT @GrowGreenTeam: We must protect the #environment post-#Brexit for people, the planet, and the #animals. Sign and share if you agree: htt…'"
      ]
     },
     "execution_count": 44,
     "metadata": {},
     "output_type": "execute_result"
    }
   ],
   "source": [
    "status._json['text']"
   ]
  },
  {
   "cell_type": "code",
   "execution_count": 16,
   "metadata": {
    "collapsed": false
   },
   "outputs": [
    {
     "data": {
      "text/plain": [
       "797111641590628353"
      ]
     },
     "execution_count": 16,
     "metadata": {},
     "output_type": "execute_result"
    }
   ],
   "source": [
    "status._json['id']"
   ]
  },
  {
   "cell_type": "code",
   "execution_count": 145,
   "metadata": {
    "collapsed": true
   },
   "outputs": [],
   "source": [
    "text = \"\"\"The titular threat of The Blob has always struck me as the ultimate movie\n",
    "monster: an insatiably hungry, amoeba-like mass able to penetrate\n",
    "virtually any safeguard, capable of--as a doomed doctor chillingly\n",
    "describes it--\"assimilating flesh on contact.\"\"\""
   ]
  },
  {
   "cell_type": "code",
   "execution_count": 146,
   "metadata": {
    "collapsed": true
   },
   "outputs": [],
   "source": [
    "testimonial = TextBlob(text)"
   ]
  },
  {
   "cell_type": "code",
   "execution_count": 179,
   "metadata": {
    "collapsed": false
   },
   "outputs": [
    {
     "data": {
      "text/plain": [
       "Sentiment(polarity=0.06000000000000001, subjectivity=0.605)"
      ]
     },
     "execution_count": 179,
     "metadata": {},
     "output_type": "execute_result"
    }
   ],
   "source": [
    "testimonial.sentiment"
   ]
  },
  {
   "cell_type": "code",
   "execution_count": 177,
   "metadata": {
    "collapsed": false
   },
   "outputs": [
    {
     "data": {
      "text/plain": [
       "0.06000000000000001"
      ]
     },
     "execution_count": 177,
     "metadata": {},
     "output_type": "execute_result"
    }
   ],
   "source": [
    "pa"
   ]
  },
  {
   "cell_type": "code",
   "execution_count": 178,
   "metadata": {
    "collapsed": false
   },
   "outputs": [
    {
     "data": {
      "text/plain": [
       "0.605"
      ]
     },
     "execution_count": 178,
     "metadata": {},
     "output_type": "execute_result"
    }
   ],
   "source": [
    "sub"
   ]
  },
  {
   "cell_type": "code",
   "execution_count": 175,
   "metadata": {
    "collapsed": false
   },
   "outputs": [
    {
     "data": {
      "text/plain": [
       "WordList(['titular threat', 'blob', 'ultimate movie monster', 'amoeba-like mass'])"
      ]
     },
     "execution_count": 175,
     "metadata": {},
     "output_type": "execute_result"
    }
   ],
   "source": [
    "testimonial.noun_phrases"
   ]
  },
  {
   "cell_type": "code",
   "execution_count": null,
   "metadata": {
    "collapsed": true
   },
   "outputs": [],
   "source": []
  },
  {
   "cell_type": "code",
   "execution_count": 154,
   "metadata": {
    "collapsed": true
   },
   "outputs": [],
   "source": [
    "st2list = list(st)"
   ]
  },
  {
   "cell_type": "code",
   "execution_count": 20,
   "metadata": {
    "collapsed": false
   },
   "outputs": [],
   "source": [
    "date = datetime.strptime(status._json['created_at'],'%a %b %d %H:%M:%S +%f %Y')"
   ]
  },
  {
   "cell_type": "code",
   "execution_count": 21,
   "metadata": {
    "collapsed": false
   },
   "outputs": [
    {
     "data": {
      "text/plain": [
       "datetime.datetime(2016, 11, 11, 16, 23, 2)"
      ]
     },
     "execution_count": 21,
     "metadata": {},
     "output_type": "execute_result"
    }
   ],
   "source": [
    "date"
   ]
  },
  {
   "cell_type": "code",
   "execution_count": 14,
   "metadata": {
    "collapsed": false
   },
   "outputs": [
    {
     "ename": "IndexError",
     "evalue": "list index out of range",
     "output_type": "error",
     "traceback": [
      "\u001b[0;31m---------------------------------------------------------------------------\u001b[0m",
      "\u001b[0;31mIndexError\u001b[0m                                Traceback (most recent call last)",
      "\u001b[0;32m<ipython-input-14-2e5014e9d305>\u001b[0m in \u001b[0;36m<module>\u001b[0;34m()\u001b[0m\n\u001b[0;32m----> 1\u001b[0;31m \u001b[0mstatus1\u001b[0m \u001b[0;34m=\u001b[0m \u001b[0mnew_tweets\u001b[0m\u001b[0;34m[\u001b[0m\u001b[0;36m99\u001b[0m\u001b[0;34m]\u001b[0m\u001b[0;34m\u001b[0m\u001b[0m\n\u001b[0m",
      "\u001b[0;31mIndexError\u001b[0m: list index out of range"
     ]
    }
   ],
   "source": [
    "status1 = new_tweets[99]"
   ]
  },
  {
   "cell_type": "code",
   "execution_count": 15,
   "metadata": {
    "collapsed": false
   },
   "outputs": [
    {
     "data": {
      "text/plain": [
       "'it'"
      ]
     },
     "execution_count": 15,
     "metadata": {},
     "output_type": "execute_result"
    }
   ],
   "source": [
    "status._json['lang']"
   ]
  },
  {
   "cell_type": "code",
   "execution_count": 18,
   "metadata": {
    "collapsed": false
   },
   "outputs": [
    {
     "data": {
      "text/plain": [
       "'Fri Nov 04 02:01:41 +0000 2016'"
      ]
     },
     "execution_count": 18,
     "metadata": {},
     "output_type": "execute_result"
    }
   ],
   "source": [
    "status._json['created_at']"
   ]
  },
  {
   "cell_type": "code",
   "execution_count": 20,
   "metadata": {
    "collapsed": false,
    "scrolled": false
   },
   "outputs": [
    {
     "data": {
      "text/plain": [
       "'Fri Nov 04 01:53:24 +0000 2016'"
      ]
     },
     "execution_count": 20,
     "metadata": {},
     "output_type": "execute_result"
    }
   ],
   "source": [
    "status1._json['created_at']"
   ]
  },
  {
   "cell_type": "code",
   "execution_count": 9,
   "metadata": {
    "collapsed": false
   },
   "outputs": [],
   "source": [
    "max_id = new_tweets[-1].id"
   ]
  },
  {
   "cell_type": "code",
   "execution_count": 10,
   "metadata": {
    "collapsed": false
   },
   "outputs": [
    {
     "data": {
      "text/plain": [
       "794547032857772032"
      ]
     },
     "execution_count": 10,
     "metadata": {},
     "output_type": "execute_result"
    }
   ],
   "source": [
    "max_id"
   ]
  },
  {
   "cell_type": "code",
   "execution_count": 11,
   "metadata": {
    "collapsed": false
   },
   "outputs": [
    {
     "data": {
      "text/plain": [
       "'794547032857772031'"
      ]
     },
     "execution_count": 11,
     "metadata": {},
     "output_type": "execute_result"
    }
   ],
   "source": [
    "str(max_id - 1)"
   ]
  },
  {
   "cell_type": "code",
   "execution_count": 32,
   "metadata": {
    "collapsed": false
   },
   "outputs": [
    {
     "data": {
      "text/plain": [
       "(100,)"
      ]
     },
     "execution_count": 32,
     "metadata": {},
     "output_type": "execute_result"
    }
   ],
   "source": [
    "xx = np.random.randint(0,100,[100,])\n",
    "xx.shape"
   ]
  },
  {
   "cell_type": "code",
   "execution_count": 187,
   "metadata": {
    "collapsed": false
   },
   "outputs": [],
   "source": [
    "f=open('try.csv','+w')\n",
    "w = csv.writer(f)\n",
    "w.writerow(['list', 'space','name'])\n",
    "w.writerow([[1,2,3,4],'',\"try\"])\n",
    "f.flush()\n",
    "f.close()"
   ]
  },
  {
   "cell_type": "code",
   "execution_count": 261,
   "metadata": {
    "collapsed": false,
    "scrolled": true
   },
   "outputs": [
    {
     "data": {
      "text/html": [
       "<div>\n",
       "<table border=\"1\" class=\"dataframe\">\n",
       "  <thead>\n",
       "    <tr style=\"text-align: right;\">\n",
       "      <th></th>\n",
       "      <th>wordnouns</th>\n",
       "      <th>geo</th>\n",
       "      <th>polarity</th>\n",
       "      <th>subjectivity</th>\n",
       "      <th>time</th>\n",
       "      <th>hashtags</th>\n",
       "    </tr>\n",
       "  </thead>\n",
       "  <tbody>\n",
       "    <tr>\n",
       "      <th>0</th>\n",
       "      <td>trump turnberry,scotland,big success,good timi...</td>\n",
       "      <td>NaN</td>\n",
       "      <td>0.371875</td>\n",
       "      <td>0.425000</td>\n",
       "      <td>2016-06-24 17:34</td>\n",
       "      <td>NaN</td>\n",
       "    </tr>\n",
       "    <tr>\n",
       "      <th>1</th>\n",
       "      <td>protection,tzegermans,brexitfunfacts</td>\n",
       "      <td>NaN</td>\n",
       "      <td>0.000000</td>\n",
       "      <td>0.000000</td>\n",
       "      <td>2016-06-24 19:59</td>\n",
       "      <td>#TzeGermans #Brexit #funfacts</td>\n",
       "    </tr>\n",
       "    <tr>\n",
       "      <th>2</th>\n",
       "      <td>brexit,con job time</td>\n",
       "      <td>NaN</td>\n",
       "      <td>-0.166667</td>\n",
       "      <td>0.666667</td>\n",
       "      <td>2016-06-24 19:59</td>\n",
       "      <td>#AshamedToBeBritish</td>\n",
       "    </tr>\n",
       "    <tr>\n",
       "      <th>3</th>\n",
       "      <td>brexit monty python,silly walks</td>\n",
       "      <td>NaN</td>\n",
       "      <td>-0.500000</td>\n",
       "      <td>0.875000</td>\n",
       "      <td>2016-06-24 19:50</td>\n",
       "      <td>#Brexit</td>\n",
       "    </tr>\n",
       "    <tr>\n",
       "      <th>4</th>\n",
       "      <td>brexit</td>\n",
       "      <td>NaN</td>\n",
       "      <td>-0.071429</td>\n",
       "      <td>0.214286</td>\n",
       "      <td>2016-06-24 03:54</td>\n",
       "      <td>NaN</td>\n",
       "    </tr>\n",
       "    <tr>\n",
       "      <th>5</th>\n",
       "      <td>brexit,britain,eu,uncertain course pic.twitter</td>\n",
       "      <td>NaN</td>\n",
       "      <td>0.000000</td>\n",
       "      <td>0.000000</td>\n",
       "      <td>2016-06-24 19:59</td>\n",
       "      <td>NaN</td>\n",
       "    </tr>\n",
       "    <tr>\n",
       "      <th>6</th>\n",
       "      <td>trump,brexit</td>\n",
       "      <td>NaN</td>\n",
       "      <td>0.000000</td>\n",
       "      <td>0.000000</td>\n",
       "      <td>2016-06-24 19:54</td>\n",
       "      <td>NaN</td>\n",
       "    </tr>\n",
       "    <tr>\n",
       "      <th>7</th>\n",
       "      <td>ai n't,yetbowiebrexit mirror.co,ou-thought-201...</td>\n",
       "      <td>NaN</td>\n",
       "      <td>-0.700000</td>\n",
       "      <td>0.666667</td>\n",
       "      <td>2016-06-24 19:56</td>\n",
       "      <td>#Bowie #Brexit</td>\n",
       "    </tr>\n",
       "    <tr>\n",
       "      <th>8</th>\n",
       "      <td>remain,brexit</td>\n",
       "      <td>NaN</td>\n",
       "      <td>0.000000</td>\n",
       "      <td>0.000000</td>\n",
       "      <td>2016-06-24 19:59</td>\n",
       "      <td>#Brexit</td>\n",
       "    </tr>\n",
       "    <tr>\n",
       "      <th>9</th>\n",
       "      <td>turned upside down</td>\n",
       "      <td>NaN</td>\n",
       "      <td>-0.077778</td>\n",
       "      <td>0.644444</td>\n",
       "      <td>2016-06-24 07:29</td>\n",
       "      <td>#Brexit</td>\n",
       "    </tr>\n",
       "    <tr>\n",
       "      <th>10</th>\n",
       "      <td>global masters,... piss,brexittrump2016</td>\n",
       "      <td>NaN</td>\n",
       "      <td>0.000000</td>\n",
       "      <td>0.000000</td>\n",
       "      <td>2016-06-24 09:40</td>\n",
       "      <td>#Brexit #Trump2016</td>\n",
       "    </tr>\n",
       "    <tr>\n",
       "      <th>11</th>\n",
       "      <td>law firms,short-term opportunity long-term per...</td>\n",
       "      <td>NaN</td>\n",
       "      <td>0.000000</td>\n",
       "      <td>0.000000</td>\n",
       "      <td>2016-06-24 19:59</td>\n",
       "      <td>NaN</td>\n",
       "    </tr>\n",
       "    <tr>\n",
       "      <th>12</th>\n",
       "      <td>didnt,big banks</td>\n",
       "      <td>NaN</td>\n",
       "      <td>-0.100000</td>\n",
       "      <td>0.350000</td>\n",
       "      <td>2016-06-24 19:47</td>\n",
       "      <td>#liberal #democrats #Brexit</td>\n",
       "    </tr>\n",
       "    <tr>\n",
       "      <th>13</th>\n",
       "      <td>brexit,front page,york</td>\n",
       "      <td>NaN</td>\n",
       "      <td>0.234848</td>\n",
       "      <td>0.477273</td>\n",
       "      <td>2016-06-24 19:46</td>\n",
       "      <td>NaN</td>\n",
       "    </tr>\n",
       "    <tr>\n",
       "      <th>14</th>\n",
       "      <td>boris johnson,court jester,crown prince afterb...</td>\n",
       "      <td>NaN</td>\n",
       "      <td>0.800000</td>\n",
       "      <td>0.400000</td>\n",
       "      <td>2016-06-24 19:45</td>\n",
       "      <td>#Brexit</td>\n",
       "    </tr>\n",
       "    <tr>\n",
       "      <th>15</th>\n",
       "      <td>brexit</td>\n",
       "      <td>NaN</td>\n",
       "      <td>0.357143</td>\n",
       "      <td>0.571429</td>\n",
       "      <td>2016-06-24 19:59</td>\n",
       "      <td>NaN</td>\n",
       "    </tr>\n",
       "    <tr>\n",
       "      <th>16</th>\n",
       "      <td>brexit,pi,| news | law society,gazette,ere-now...</td>\n",
       "      <td>NaN</td>\n",
       "      <td>0.000000</td>\n",
       "      <td>0.000000</td>\n",
       "      <td>2016-06-24 19:59</td>\n",
       "      <td>NaN</td>\n",
       "    </tr>\n",
       "    <tr>\n",
       "      <th>17</th>\n",
       "      <td>new function,unix,standard c library,normal pr...</td>\n",
       "      <td>NaN</td>\n",
       "      <td>0.095455</td>\n",
       "      <td>0.368182</td>\n",
       "      <td>2016-06-24 12:59</td>\n",
       "      <td>NaN</td>\n",
       "    </tr>\n",
       "    <tr>\n",
       "      <th>18</th>\n",
       "      <td>brexit,set julian assange free,wikileaks says ...</td>\n",
       "      <td>NaN</td>\n",
       "      <td>0.175000</td>\n",
       "      <td>0.400000</td>\n",
       "      <td>2016-06-24 19:57</td>\n",
       "      <td>NaN</td>\n",
       "    </tr>\n",
       "    <tr>\n",
       "      <th>19</th>\n",
       "      <td>lindsay lohan,fumes overbrexit,elizabeth hurley</td>\n",
       "      <td>NaN</td>\n",
       "      <td>0.400000</td>\n",
       "      <td>0.400000</td>\n",
       "      <td>2016-06-24 19:35</td>\n",
       "      <td>#Brexit</td>\n",
       "    </tr>\n",
       "    <tr>\n",
       "      <th>20</th>\n",
       "      <td>conservative talk,loves brexit</td>\n",
       "      <td>Manhattan, NY</td>\n",
       "      <td>0.000000</td>\n",
       "      <td>0.000000</td>\n",
       "      <td>2016-06-24 18:33</td>\n",
       "      <td>NaN</td>\n",
       "    </tr>\n",
       "    <tr>\n",
       "      <th>21</th>\n",
       "      <td>whybrexit,uk,map economist,1699504-most-scient...</td>\n",
       "      <td>Manhattan, NY</td>\n",
       "      <td>-1.000000</td>\n",
       "      <td>1.000000</td>\n",
       "      <td>2016-06-24 11:32</td>\n",
       "      <td>#Brexit</td>\n",
       "    </tr>\n",
       "    <tr>\n",
       "      <th>22</th>\n",
       "      <td>ahead,york,nat'l monument,preview ofnycpridemarch</td>\n",
       "      <td>NaN</td>\n",
       "      <td>0.136364</td>\n",
       "      <td>0.454545</td>\n",
       "      <td>2016-06-24 19:59</td>\n",
       "      <td>#Brexit #NYCPrideMarch</td>\n",
       "    </tr>\n",
       "    <tr>\n",
       "      <th>23</th>\n",
       "      <td>trump,hillary,misread,misread brexit,breitbart</td>\n",
       "      <td>NaN</td>\n",
       "      <td>0.000000</td>\n",
       "      <td>0.000000</td>\n",
       "      <td>2016-06-24 19:59</td>\n",
       "      <td>NaN</td>\n",
       "    </tr>\n",
       "    <tr>\n",
       "      <th>24</th>\n",
       "      <td>scottish independence referendum,louder afterb...</td>\n",
       "      <td>NaN</td>\n",
       "      <td>0.000000</td>\n",
       "      <td>0.000000</td>\n",
       "      <td>2016-06-24 19:39</td>\n",
       "      <td>#Brexit</td>\n",
       "    </tr>\n",
       "    <tr>\n",
       "      <th>25</th>\n",
       "      <td>orlando,massacre thebrexit decision,u.s.</td>\n",
       "      <td>NaN</td>\n",
       "      <td>0.200000</td>\n",
       "      <td>0.200000</td>\n",
       "      <td>2016-06-24 18:21</td>\n",
       "      <td>#Brexit</td>\n",
       "    </tr>\n",
       "    <tr>\n",
       "      <th>26</th>\n",
       "      <td>swfi,brexit outcome impacts institutional,king...</td>\n",
       "      <td>NaN</td>\n",
       "      <td>0.000000</td>\n",
       "      <td>0.000000</td>\n",
       "      <td>2016-06-24 16:48</td>\n",
       "      <td>NaN</td>\n",
       "    </tr>\n",
       "    <tr>\n",
       "      <th>27</th>\n",
       "      <td>“the losses,u.s.,stock market.”gretabrexit pic...</td>\n",
       "      <td>NaN</td>\n",
       "      <td>0.000000</td>\n",
       "      <td>0.000000</td>\n",
       "      <td>2016-06-24 19:07</td>\n",
       "      <td>#Greta #Brexit</td>\n",
       "    </tr>\n",
       "    <tr>\n",
       "      <th>28</th>\n",
       "      <td>history</td>\n",
       "      <td>NaN</td>\n",
       "      <td>0.700000</td>\n",
       "      <td>0.600000</td>\n",
       "      <td>2016-06-24 19:59</td>\n",
       "      <td>#brexit</td>\n",
       "    </tr>\n",
       "    <tr>\n",
       "      <th>29</th>\n",
       "      <td>brexit,calm jittery investors</td>\n",
       "      <td>NaN</td>\n",
       "      <td>0.300000</td>\n",
       "      <td>0.750000</td>\n",
       "      <td>2016-06-24 19:47</td>\n",
       "      <td>NaN</td>\n",
       "    </tr>\n",
       "    <tr>\n",
       "      <th>...</th>\n",
       "      <td>...</td>\n",
       "      <td>...</td>\n",
       "      <td>...</td>\n",
       "      <td>...</td>\n",
       "      <td>...</td>\n",
       "      <td>...</td>\n",
       "    </tr>\n",
       "    <tr>\n",
       "      <th>87070</th>\n",
       "      <td>great-britain,england brexit</td>\n",
       "      <td>NaN</td>\n",
       "      <td>-0.193750</td>\n",
       "      <td>0.350000</td>\n",
       "      <td>2016-06-24 16:09</td>\n",
       "      <td>#Brexit</td>\n",
       "    </tr>\n",
       "    <tr>\n",
       "      <th>87071</th>\n",
       "      <td>wowwwwwwww,wow.brexit,n't impact,i 'd</td>\n",
       "      <td>NaN</td>\n",
       "      <td>-1.000000</td>\n",
       "      <td>1.000000</td>\n",
       "      <td>2016-06-24 16:09</td>\n",
       "      <td>#Brexit</td>\n",
       "    </tr>\n",
       "    <tr>\n",
       "      <th>87072</th>\n",
       "      <td>muide respekt,kallasele,selle kondi eest mille...</td>\n",
       "      <td>Hamburg, Germany</td>\n",
       "      <td>0.000000</td>\n",
       "      <td>0.000000</td>\n",
       "      <td>2016-06-24 16:09</td>\n",
       "      <td>#kaitseolukord</td>\n",
       "    </tr>\n",
       "    <tr>\n",
       "      <th>87073</th>\n",
       "      <td>record,brexit vote,heads profess calm,jpmorgan...</td>\n",
       "      <td>NaN</td>\n",
       "      <td>0.300000</td>\n",
       "      <td>0.750000</td>\n",
       "      <td>2016-06-24 16:09</td>\n",
       "      <td>#markets</td>\n",
       "    </tr>\n",
       "    <tr>\n",
       "      <th>87074</th>\n",
       "      <td>afterbrexit more money was lost today than if ...</td>\n",
       "      <td>NaN</td>\n",
       "      <td>0.625000</td>\n",
       "      <td>0.500000</td>\n",
       "      <td>2016-06-24 16:09</td>\n",
       "      <td>#BREXIT #EU</td>\n",
       "    </tr>\n",
       "    <tr>\n",
       "      <th>87075</th>\n",
       "      <td>via,brexit vote britain,google,eu</td>\n",
       "      <td>NaN</td>\n",
       "      <td>1.000000</td>\n",
       "      <td>1.000000</td>\n",
       "      <td>2016-06-24 16:09</td>\n",
       "      <td>NaN</td>\n",
       "    </tr>\n",
       "    <tr>\n",
       "      <th>87076</th>\n",
       "      <td>bad day,u.k.brexitbloodymarket</td>\n",
       "      <td>NaN</td>\n",
       "      <td>-0.250000</td>\n",
       "      <td>0.433333</td>\n",
       "      <td>2016-06-24 16:09</td>\n",
       "      <td>#Brexit #BloodyMarket</td>\n",
       "    </tr>\n",
       "    <tr>\n",
       "      <th>87077</th>\n",
       "      <td>who,nexit,mailonline,brexit</td>\n",
       "      <td>NaN</td>\n",
       "      <td>0.000000</td>\n",
       "      <td>0.000000</td>\n",
       "      <td>2016-06-24 16:09</td>\n",
       "      <td>NaN</td>\n",
       "    </tr>\n",
       "    <tr>\n",
       "      <th>87078</th>\n",
       "      <td>brexit may,uk real estate cheaper,buyers,india...</td>\n",
       "      <td>NaN</td>\n",
       "      <td>0.200000</td>\n",
       "      <td>0.300000</td>\n",
       "      <td>2016-06-24 16:09</td>\n",
       "      <td>NaN</td>\n",
       "    </tr>\n",
       "    <tr>\n",
       "      <th>87079</th>\n",
       "      <td>good thing,texas</td>\n",
       "      <td>NaN</td>\n",
       "      <td>0.375000</td>\n",
       "      <td>0.475000</td>\n",
       "      <td>2016-06-24 16:09</td>\n",
       "      <td>#Brexit</td>\n",
       "    </tr>\n",
       "    <tr>\n",
       "      <th>87080</th>\n",
       "      <td>brexit,legally</td>\n",
       "      <td>NaN</td>\n",
       "      <td>0.200000</td>\n",
       "      <td>0.200000</td>\n",
       "      <td>2016-06-24 16:09</td>\n",
       "      <td>NaN</td>\n",
       "    </tr>\n",
       "    <tr>\n",
       "      <th>87081</th>\n",
       "      <td>obama,idiot ...,americabrexit</td>\n",
       "      <td>NaN</td>\n",
       "      <td>0.000000</td>\n",
       "      <td>0.000000</td>\n",
       "      <td>2016-06-24 16:09</td>\n",
       "      <td>#Brexit</td>\n",
       "    </tr>\n",
       "    <tr>\n",
       "      <th>87082</th>\n",
       "      <td>uk,actions yesterday.brexit</td>\n",
       "      <td>NaN</td>\n",
       "      <td>0.000000</td>\n",
       "      <td>0.000000</td>\n",
       "      <td>2016-06-24 16:09</td>\n",
       "      <td>#brexit</td>\n",
       "    </tr>\n",
       "    <tr>\n",
       "      <th>87083</th>\n",
       "      <td>brexit britain,job prospects</td>\n",
       "      <td>NaN</td>\n",
       "      <td>0.500000</td>\n",
       "      <td>0.500000</td>\n",
       "      <td>2016-06-24 16:09</td>\n",
       "      <td>NaN</td>\n",
       "    </tr>\n",
       "    <tr>\n",
       "      <th>87084</th>\n",
       "      <td>brexit,courtesy</td>\n",
       "      <td>NaN</td>\n",
       "      <td>0.000000</td>\n",
       "      <td>0.000000</td>\n",
       "      <td>2016-06-24 16:09</td>\n",
       "      <td>NaN</td>\n",
       "    </tr>\n",
       "    <tr>\n",
       "      <th>87085</th>\n",
       "      <td>amazing job rn,vote demographics,trump</td>\n",
       "      <td>NaN</td>\n",
       "      <td>0.600000</td>\n",
       "      <td>0.900000</td>\n",
       "      <td>2016-06-24 16:09</td>\n",
       "      <td>#Brexit</td>\n",
       "    </tr>\n",
       "    <tr>\n",
       "      <th>87086</th>\n",
       "      <td>brexit,raises risk,global recession,financial ...</td>\n",
       "      <td>NaN</td>\n",
       "      <td>0.000000</td>\n",
       "      <td>0.000000</td>\n",
       "      <td>2016-06-24 16:09</td>\n",
       "      <td>NaN</td>\n",
       "    </tr>\n",
       "    <tr>\n",
       "      <th>87087</th>\n",
       "      <td>petr cech,brexit,'fake campaign,rexit-fake-cam...</td>\n",
       "      <td>NaN</td>\n",
       "      <td>-0.500000</td>\n",
       "      <td>1.000000</td>\n",
       "      <td>2016-06-24 16:09</td>\n",
       "      <td>NaN</td>\n",
       "    </tr>\n",
       "    <tr>\n",
       "      <th>87088</th>\n",
       "      <td>british youth,react,brexit,megan specia,shane ...</td>\n",
       "      <td>NaN</td>\n",
       "      <td>0.000000</td>\n",
       "      <td>0.000000</td>\n",
       "      <td>2016-06-24 16:09</td>\n",
       "      <td>NaN</td>\n",
       "    </tr>\n",
       "    <tr>\n",
       "      <th>87089</th>\n",
       "      <td>world adjusts,brexit,initial shock,eu,uk,exit ...</td>\n",
       "      <td>NaN</td>\n",
       "      <td>0.000000</td>\n",
       "      <td>0.000000</td>\n",
       "      <td>2016-06-24 16:09</td>\n",
       "      <td>NaN</td>\n",
       "    </tr>\n",
       "    <tr>\n",
       "      <th>87090</th>\n",
       "      <td>brexit,likely means forinsurance,t-will-affect...</td>\n",
       "      <td>NaN</td>\n",
       "      <td>0.000000</td>\n",
       "      <td>1.000000</td>\n",
       "      <td>2016-06-24 16:09</td>\n",
       "      <td>#Brexit #insurance</td>\n",
       "    </tr>\n",
       "    <tr>\n",
       "      <th>87091</th>\n",
       "      <td>brexit</td>\n",
       "      <td>NaN</td>\n",
       "      <td>-0.155556</td>\n",
       "      <td>0.288889</td>\n",
       "      <td>2016-06-24 16:09</td>\n",
       "      <td>#Brexit</td>\n",
       "    </tr>\n",
       "    <tr>\n",
       "      <th>87092</th>\n",
       "      <td>brexit,knee jerk,investment accounts,britain</td>\n",
       "      <td>NaN</td>\n",
       "      <td>0.000000</td>\n",
       "      <td>0.000000</td>\n",
       "      <td>2016-06-24 16:09</td>\n",
       "      <td>#Brexit</td>\n",
       "    </tr>\n",
       "    <tr>\n",
       "      <th>87093</th>\n",
       "      <td>brexitmarkets,vssentiment pic.twitter</td>\n",
       "      <td>NaN</td>\n",
       "      <td>0.000000</td>\n",
       "      <td>0.000000</td>\n",
       "      <td>2016-06-24 16:09</td>\n",
       "      <td>#Brexit #markets #sentiment</td>\n",
       "    </tr>\n",
       "    <tr>\n",
       "      <th>87094</th>\n",
       "      <td>global currencies plunge,brexit,turn,bitcoin</td>\n",
       "      <td>NaN</td>\n",
       "      <td>0.000000</td>\n",
       "      <td>0.000000</td>\n",
       "      <td>2016-06-24 16:09</td>\n",
       "      <td>NaN</td>\n",
       "    </tr>\n",
       "    <tr>\n",
       "      <th>87095</th>\n",
       "      <td>mañana,os esperamos,esradio,analizamos,brexit,...</td>\n",
       "      <td>NaN</td>\n",
       "      <td>0.000000</td>\n",
       "      <td>0.000000</td>\n",
       "      <td>2016-06-24 16:09</td>\n",
       "      <td>NaN</td>\n",
       "    </tr>\n",
       "    <tr>\n",
       "      <th>87096</th>\n",
       "      <td>taylor,pl,brexit,premier league clubs,foreign ...</td>\n",
       "      <td>NaN</td>\n",
       "      <td>0.458333</td>\n",
       "      <td>0.350000</td>\n",
       "      <td>2016-06-24 16:09</td>\n",
       "      <td>NaN</td>\n",
       "    </tr>\n",
       "    <tr>\n",
       "      <th>87097</th>\n",
       "      <td>world 's,financial centre,brexit</td>\n",
       "      <td>NaN</td>\n",
       "      <td>0.000000</td>\n",
       "      <td>0.000000</td>\n",
       "      <td>2016-06-24 16:09</td>\n",
       "      <td>NaN</td>\n",
       "    </tr>\n",
       "    <tr>\n",
       "      <th>87098</th>\n",
       "      <td>brexit,hold,zero hedge</td>\n",
       "      <td>NaN</td>\n",
       "      <td>0.000000</td>\n",
       "      <td>0.000000</td>\n",
       "      <td>2016-06-24 16:09</td>\n",
       "      <td>NaN</td>\n",
       "    </tr>\n",
       "    <tr>\n",
       "      <th>87099</th>\n",
       "      <td>brexit</td>\n",
       "      <td>NaN</td>\n",
       "      <td>0.155556</td>\n",
       "      <td>0.111111</td>\n",
       "      <td>2016-06-24 16:09</td>\n",
       "      <td>NaN</td>\n",
       "    </tr>\n",
       "  </tbody>\n",
       "</table>\n",
       "<p>87100 rows × 6 columns</p>\n",
       "</div>"
      ],
      "text/plain": [
       "                                               wordnouns               geo  \\\n",
       "0      trump turnberry,scotland,big success,good timi...               NaN   \n",
       "1                   protection,tzegermans,brexitfunfacts               NaN   \n",
       "2                                    brexit,con job time               NaN   \n",
       "3                        brexit monty python,silly walks               NaN   \n",
       "4                                                 brexit               NaN   \n",
       "5         brexit,britain,eu,uncertain course pic.twitter               NaN   \n",
       "6                                           trump,brexit               NaN   \n",
       "7      ai n't,yetbowiebrexit mirror.co,ou-thought-201...               NaN   \n",
       "8                                          remain,brexit               NaN   \n",
       "9                                     turned upside down               NaN   \n",
       "10               global masters,... piss,brexittrump2016               NaN   \n",
       "11     law firms,short-term opportunity long-term per...               NaN   \n",
       "12                                       didnt,big banks               NaN   \n",
       "13                                brexit,front page,york               NaN   \n",
       "14     boris johnson,court jester,crown prince afterb...               NaN   \n",
       "15                                                brexit               NaN   \n",
       "16     brexit,pi,| news | law society,gazette,ere-now...               NaN   \n",
       "17     new function,unix,standard c library,normal pr...               NaN   \n",
       "18     brexit,set julian assange free,wikileaks says ...               NaN   \n",
       "19       lindsay lohan,fumes overbrexit,elizabeth hurley               NaN   \n",
       "20                        conservative talk,loves brexit     Manhattan, NY   \n",
       "21     whybrexit,uk,map economist,1699504-most-scient...     Manhattan, NY   \n",
       "22     ahead,york,nat'l monument,preview ofnycpridemarch               NaN   \n",
       "23        trump,hillary,misread,misread brexit,breitbart               NaN   \n",
       "24     scottish independence referendum,louder afterb...               NaN   \n",
       "25              orlando,massacre thebrexit decision,u.s.               NaN   \n",
       "26     swfi,brexit outcome impacts institutional,king...               NaN   \n",
       "27     “the losses,u.s.,stock market.”gretabrexit pic...               NaN   \n",
       "28                                               history               NaN   \n",
       "29                         brexit,calm jittery investors               NaN   \n",
       "...                                                  ...               ...   \n",
       "87070                       great-britain,england brexit               NaN   \n",
       "87071              wowwwwwwww,wow.brexit,n't impact,i 'd               NaN   \n",
       "87072  muide respekt,kallasele,selle kondi eest mille...  Hamburg, Germany   \n",
       "87073  record,brexit vote,heads profess calm,jpmorgan...               NaN   \n",
       "87074  afterbrexit more money was lost today than if ...               NaN   \n",
       "87075                  via,brexit vote britain,google,eu               NaN   \n",
       "87076                     bad day,u.k.brexitbloodymarket               NaN   \n",
       "87077                        who,nexit,mailonline,brexit               NaN   \n",
       "87078  brexit may,uk real estate cheaper,buyers,india...               NaN   \n",
       "87079                                   good thing,texas               NaN   \n",
       "87080                                     brexit,legally               NaN   \n",
       "87081                      obama,idiot ...,americabrexit               NaN   \n",
       "87082                        uk,actions yesterday.brexit               NaN   \n",
       "87083                       brexit britain,job prospects               NaN   \n",
       "87084                                    brexit,courtesy               NaN   \n",
       "87085             amazing job rn,vote demographics,trump               NaN   \n",
       "87086  brexit,raises risk,global recession,financial ...               NaN   \n",
       "87087  petr cech,brexit,'fake campaign,rexit-fake-cam...               NaN   \n",
       "87088  british youth,react,brexit,megan specia,shane ...               NaN   \n",
       "87089  world adjusts,brexit,initial shock,eu,uk,exit ...               NaN   \n",
       "87090  brexit,likely means forinsurance,t-will-affect...               NaN   \n",
       "87091                                             brexit               NaN   \n",
       "87092       brexit,knee jerk,investment accounts,britain               NaN   \n",
       "87093              brexitmarkets,vssentiment pic.twitter               NaN   \n",
       "87094       global currencies plunge,brexit,turn,bitcoin               NaN   \n",
       "87095  mañana,os esperamos,esradio,analizamos,brexit,...               NaN   \n",
       "87096  taylor,pl,brexit,premier league clubs,foreign ...               NaN   \n",
       "87097                   world 's,financial centre,brexit               NaN   \n",
       "87098                             brexit,hold,zero hedge               NaN   \n",
       "87099                                             brexit               NaN   \n",
       "\n",
       "       polarity  subjectivity              time                       hashtags  \n",
       "0      0.371875      0.425000  2016-06-24 17:34                            NaN  \n",
       "1      0.000000      0.000000  2016-06-24 19:59  #TzeGermans #Brexit #funfacts  \n",
       "2     -0.166667      0.666667  2016-06-24 19:59            #AshamedToBeBritish  \n",
       "3     -0.500000      0.875000  2016-06-24 19:50                        #Brexit  \n",
       "4     -0.071429      0.214286  2016-06-24 03:54                            NaN  \n",
       "5      0.000000      0.000000  2016-06-24 19:59                            NaN  \n",
       "6      0.000000      0.000000  2016-06-24 19:54                            NaN  \n",
       "7     -0.700000      0.666667  2016-06-24 19:56                 #Bowie #Brexit  \n",
       "8      0.000000      0.000000  2016-06-24 19:59                        #Brexit  \n",
       "9     -0.077778      0.644444  2016-06-24 07:29                        #Brexit  \n",
       "10     0.000000      0.000000  2016-06-24 09:40             #Brexit #Trump2016  \n",
       "11     0.000000      0.000000  2016-06-24 19:59                            NaN  \n",
       "12    -0.100000      0.350000  2016-06-24 19:47    #liberal #democrats #Brexit  \n",
       "13     0.234848      0.477273  2016-06-24 19:46                            NaN  \n",
       "14     0.800000      0.400000  2016-06-24 19:45                        #Brexit  \n",
       "15     0.357143      0.571429  2016-06-24 19:59                            NaN  \n",
       "16     0.000000      0.000000  2016-06-24 19:59                            NaN  \n",
       "17     0.095455      0.368182  2016-06-24 12:59                            NaN  \n",
       "18     0.175000      0.400000  2016-06-24 19:57                            NaN  \n",
       "19     0.400000      0.400000  2016-06-24 19:35                        #Brexit  \n",
       "20     0.000000      0.000000  2016-06-24 18:33                            NaN  \n",
       "21    -1.000000      1.000000  2016-06-24 11:32                        #Brexit  \n",
       "22     0.136364      0.454545  2016-06-24 19:59         #Brexit #NYCPrideMarch  \n",
       "23     0.000000      0.000000  2016-06-24 19:59                            NaN  \n",
       "24     0.000000      0.000000  2016-06-24 19:39                        #Brexit  \n",
       "25     0.200000      0.200000  2016-06-24 18:21                        #Brexit  \n",
       "26     0.000000      0.000000  2016-06-24 16:48                            NaN  \n",
       "27     0.000000      0.000000  2016-06-24 19:07                 #Greta #Brexit  \n",
       "28     0.700000      0.600000  2016-06-24 19:59                        #brexit  \n",
       "29     0.300000      0.750000  2016-06-24 19:47                            NaN  \n",
       "...         ...           ...               ...                            ...  \n",
       "87070 -0.193750      0.350000  2016-06-24 16:09                        #Brexit  \n",
       "87071 -1.000000      1.000000  2016-06-24 16:09                        #Brexit  \n",
       "87072  0.000000      0.000000  2016-06-24 16:09                 #kaitseolukord  \n",
       "87073  0.300000      0.750000  2016-06-24 16:09                       #markets  \n",
       "87074  0.625000      0.500000  2016-06-24 16:09                    #BREXIT #EU  \n",
       "87075  1.000000      1.000000  2016-06-24 16:09                            NaN  \n",
       "87076 -0.250000      0.433333  2016-06-24 16:09          #Brexit #BloodyMarket  \n",
       "87077  0.000000      0.000000  2016-06-24 16:09                            NaN  \n",
       "87078  0.200000      0.300000  2016-06-24 16:09                            NaN  \n",
       "87079  0.375000      0.475000  2016-06-24 16:09                        #Brexit  \n",
       "87080  0.200000      0.200000  2016-06-24 16:09                            NaN  \n",
       "87081  0.000000      0.000000  2016-06-24 16:09                        #Brexit  \n",
       "87082  0.000000      0.000000  2016-06-24 16:09                        #brexit  \n",
       "87083  0.500000      0.500000  2016-06-24 16:09                            NaN  \n",
       "87084  0.000000      0.000000  2016-06-24 16:09                            NaN  \n",
       "87085  0.600000      0.900000  2016-06-24 16:09                        #Brexit  \n",
       "87086  0.000000      0.000000  2016-06-24 16:09                            NaN  \n",
       "87087 -0.500000      1.000000  2016-06-24 16:09                            NaN  \n",
       "87088  0.000000      0.000000  2016-06-24 16:09                            NaN  \n",
       "87089  0.000000      0.000000  2016-06-24 16:09                            NaN  \n",
       "87090  0.000000      1.000000  2016-06-24 16:09             #Brexit #insurance  \n",
       "87091 -0.155556      0.288889  2016-06-24 16:09                        #Brexit  \n",
       "87092  0.000000      0.000000  2016-06-24 16:09                        #Brexit  \n",
       "87093  0.000000      0.000000  2016-06-24 16:09    #Brexit #markets #sentiment  \n",
       "87094  0.000000      0.000000  2016-06-24 16:09                            NaN  \n",
       "87095  0.000000      0.000000  2016-06-24 16:09                            NaN  \n",
       "87096  0.458333      0.350000  2016-06-24 16:09                            NaN  \n",
       "87097  0.000000      0.000000  2016-06-24 16:09                            NaN  \n",
       "87098  0.000000      0.000000  2016-06-24 16:09                            NaN  \n",
       "87099  0.155556      0.111111  2016-06-24 16:09                            NaN  \n",
       "\n",
       "[87100 rows x 6 columns]"
      ]
     },
     "execution_count": 261,
     "metadata": {},
     "output_type": "execute_result"
    }
   ],
   "source": [
    "dp = pd.read_csv('output_got.csv')\n",
    "dp"
   ]
  },
  {
   "cell_type": "code",
   "execution_count": 169,
   "metadata": {
    "collapsed": false
   },
   "outputs": [],
   "source": [
    "temp = dp['list'].values"
   ]
  },
  {
   "cell_type": "code",
   "execution_count": 174,
   "metadata": {
    "collapsed": false
   },
   "outputs": [
    {
     "data": {
      "text/plain": [
       "['[', '1', ',', ' ', '2', ',', ' ', '3', ',', ' ', '4', ']']"
      ]
     },
     "execution_count": 174,
     "metadata": {},
     "output_type": "execute_result"
    }
   ],
   "source": [
    "temp[0]"
   ]
  },
  {
   "cell_type": "code",
   "execution_count": 5,
   "metadata": {
    "collapsed": false
   },
   "outputs": [],
   "source": [
    "data = datetime.datetime.fromtimestamp(1478964862).strftime(\"%a %b %d %X +0000 %Y\")"
   ]
  },
  {
   "cell_type": "code",
   "execution_count": 6,
   "metadata": {
    "collapsed": false
   },
   "outputs": [
    {
     "data": {
      "text/plain": [
       "'Sat Nov 12 10:34:22 +0000 2016'"
      ]
     },
     "execution_count": 6,
     "metadata": {},
     "output_type": "execute_result"
    }
   ],
   "source": [
    "data"
   ]
  },
  {
   "cell_type": "code",
   "execution_count": 10,
   "metadata": {
    "collapsed": true
   },
   "outputs": [],
   "source": [
    "s = [1,2,3]"
   ]
  },
  {
   "cell_type": "code",
   "execution_count": 14,
   "metadata": {
    "collapsed": false
   },
   "outputs": [
    {
     "data": {
      "text/plain": [
       "6"
      ]
     },
     "execution_count": 14,
     "metadata": {},
     "output_type": "execute_result"
    }
   ],
   "source": [
    "np.random.randint(0,10)"
   ]
  }
 ],
 "metadata": {
  "anaconda-cloud": {},
  "kernelspec": {
   "display_name": "Python [conda env:cs505]",
   "language": "python",
   "name": "conda-env-cs505-py"
  },
  "language_info": {
   "codemirror_mode": {
    "name": "ipython",
    "version": 3
   },
   "file_extension": ".py",
   "mimetype": "text/x-python",
   "name": "python",
   "nbconvert_exporter": "python",
   "pygments_lexer": "ipython3",
   "version": "3.5.2"
  }
 },
 "nbformat": 4,
 "nbformat_minor": 1
}
