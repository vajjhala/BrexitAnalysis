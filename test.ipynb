{
 "cells": [
  {
   "cell_type": "code",
   "execution_count": 1,
   "metadata": {
    "collapsed": false
   },
   "outputs": [],
   "source": [
    "import tweepy, json\n",
    "from tweepy import OAuthHandler\n",
    "from datetime import datetime\n",
    "from pymongo import MongoClient\n",
    "import numpy as np\n",
    "import time"
   ]
  },
  {
   "cell_type": "code",
   "execution_count": 2,
   "metadata": {
    "collapsed": true
   },
   "outputs": [],
   "source": [
    "Month = ['Jan','Feb','Mar','Apr','May','June','July','Aug','Sept','Oct','Nov']"
   ]
  },
  {
   "cell_type": "code",
   "execution_count": 3,
   "metadata": {
    "collapsed": true
   },
   "outputs": [],
   "source": [
    "def get_db():\n",
    "    from pymongo import MongoClient\n",
    "    client = MongoClient('localhost',27017)\n",
    "    db = client['BREXIT_TWEETS']\n",
    "    return db"
   ]
  },
  {
   "cell_type": "code",
   "execution_count": 4,
   "metadata": {
    "collapsed": false
   },
   "outputs": [],
   "source": [
    "db = get_db()"
   ]
  },
  {
   "cell_type": "code",
   "execution_count": 5,
   "metadata": {
    "collapsed": true
   },
   "outputs": [],
   "source": [
    "collection = db['Jan']"
   ]
  },
  {
   "cell_type": "code",
   "execution_count": 6,
   "metadata": {
    "collapsed": false
   },
   "outputs": [],
   "source": [
    "consumer_key = 'r7hTS2dvvHkdNabqjv9JEU6zn'\n",
    "consumer_secret = 'jMuCrQPclUkbiMLsjBqOLso7pEKj5M4BMsJxVu8l7pKh7RFIc6'\n",
    "\n",
    "auth = tweepy.AppAuthHandler(consumer_key, consumer_secret)\n",
    " \n",
    "api = tweepy.API(auth, wait_on_rate_limit=True, wait_on_rate_limit_notify=True)\n",
    "\n",
    "if (not api):\n",
    "    print (\"Can't Authenticate\")\n",
    "    sys.exit(-1)"
   ]
  },
  {
   "cell_type": "code",
   "execution_count": 16,
   "metadata": {
    "collapsed": false,
    "scrolled": true
   },
   "outputs": [
    {
     "name": "stdout",
     "output_type": "stream",
     "text": [
      "Downloading tweets In Nov.\n",
      "Downloaded 1347 tweets\n",
      "Downloaded 1348 tweets\n",
      "Downloaded 1349 tweets\n",
      "Downloaded 1350 tweets\n",
      "Downloaded 1351 tweets\n",
      "Downloaded 1352 tweets\n",
      "Downloaded 1353 tweets\n",
      "Downloaded 1354 tweets\n",
      "Downloaded 1355 tweets\n",
      "Downloaded 1356 tweets\n",
      "Downloaded 1357 tweets\n",
      "Downloaded 1358 tweets\n",
      "Downloaded 1359 tweets\n",
      "Downloaded 1360 tweets\n",
      "Downloaded 1361 tweets\n",
      "Downloaded 1362 tweets\n",
      "Downloaded 1363 tweets\n",
      "Downloaded 1364 tweets\n",
      "Downloaded 1365 tweets\n",
      "Downloaded 1366 tweets\n",
      "Downloaded 1367 tweets\n",
      "Downloaded 1368 tweets\n",
      "Downloaded 1369 tweets\n",
      "Downloaded 1370 tweets\n",
      "Downloaded 1371 tweets\n",
      "Downloaded 1372 tweets\n",
      "Downloaded 1373 tweets\n",
      "Downloaded 1374 tweets\n",
      "Downloaded 1375 tweets\n",
      "Downloaded 1376 tweets\n",
      "Downloaded 1377 tweets\n",
      "Downloaded 1378 tweets\n",
      "Downloaded 1379 tweets\n",
      "Downloaded 1380 tweets\n",
      "Downloaded 1381 tweets\n",
      "Downloaded 1382 tweets\n",
      "Downloaded 1383 tweets\n",
      "Downloaded 1384 tweets\n",
      "Downloaded 1385 tweets\n",
      "Downloaded 1386 tweets\n",
      "Downloaded 1387 tweets\n",
      "Downloaded 1388 tweets\n",
      "Downloaded 1389 tweets\n",
      "Downloaded 1390 tweets\n",
      "Downloaded 1391 tweets\n",
      "Downloaded 1392 tweets\n",
      "Downloaded 1393 tweets\n",
      "Downloaded 1394 tweets\n",
      "Downloaded 1395 tweets\n",
      "Downloaded 1396 tweets\n",
      "Downloaded 1397 tweets\n",
      "Downloaded 1398 tweets\n",
      "Downloaded 1399 tweets\n",
      "Downloaded 1400 tweets\n",
      "Downloaded 1401 tweets\n",
      "Downloaded 1402 tweets\n",
      "Downloaded 1403 tweets\n",
      "Downloaded 1404 tweets\n",
      "Downloaded 1405 tweets\n",
      "Downloaded 1406 tweets\n",
      "Downloaded 1407 tweets\n",
      "Downloaded 1408 tweets\n",
      "Downloaded 1409 tweets\n",
      "Downloaded 1410 tweets\n",
      "Downloaded 1411 tweets\n",
      "Downloaded 1412 tweets\n",
      "Downloaded 1413 tweets\n",
      "Downloaded 1414 tweets\n",
      "Downloaded 1415 tweets\n",
      "Downloaded 1416 tweets\n",
      "Downloaded 1417 tweets\n",
      "Downloaded 1418 tweets\n",
      "Downloaded 1419 tweets\n",
      "Downloaded 1420 tweets\n",
      "Downloaded 1421 tweets\n",
      "Downloaded 1422 tweets\n",
      "Downloaded 1423 tweets\n",
      "Downloaded 1424 tweets\n",
      "Downloaded 1425 tweets\n",
      "Downloaded 1426 tweets\n",
      "Downloaded 1427 tweets\n",
      "Downloaded 1428 tweets\n",
      "Downloaded 1429 tweets\n",
      "Downloaded 1430 tweets\n",
      "Downloaded 1431 tweets\n",
      "Downloaded 1432 tweets\n",
      "Downloaded 1433 tweets\n",
      "Downloaded 1434 tweets\n",
      "Downloaded 1435 tweets\n",
      "Downloaded 1436 tweets\n",
      "Downloaded 1437 tweets\n",
      "Downloaded 1438 tweets\n",
      "Downloaded 1439 tweets\n",
      "Downloaded 1440 tweets\n",
      "Downloaded 1441 tweets\n",
      "Downloaded 1442 tweets\n",
      "Downloaded 1443 tweets\n",
      "Downloaded 1444 tweets\n",
      "Downloaded 1445 tweets\n",
      "Downloaded 1446 tweets\n",
      "Downloaded 1447 tweets\n",
      "Downloaded 1448 tweets\n",
      "Downloaded 1449 tweets\n",
      "Downloaded 1450 tweets\n",
      "Downloaded 1451 tweets\n",
      "Downloaded 1452 tweets\n",
      "Downloaded 1453 tweets\n",
      "Downloaded 1454 tweets\n",
      "Downloaded 1455 tweets\n",
      "Downloaded 1456 tweets\n",
      "Downloaded 1457 tweets\n",
      "Downloaded 1458 tweets\n",
      "Downloaded 1459 tweets\n",
      "Downloaded 1460 tweets\n",
      "Downloaded 1461 tweets\n",
      "Downloaded 1462 tweets\n",
      "Downloaded 1463 tweets\n",
      "Downloaded 1464 tweets\n",
      "Downloaded 1465 tweets\n",
      "Downloaded 1466 tweets\n",
      "Downloaded 1467 tweets\n",
      "Downloaded 1468 tweets\n",
      "Downloaded 1469 tweets\n",
      "Downloaded 1470 tweets\n",
      "Downloaded 1471 tweets\n",
      "Downloaded 1472 tweets\n",
      "Downloaded 1473 tweets\n",
      "Downloaded 1474 tweets\n",
      "Downloaded 1475 tweets\n",
      "Downloaded 1476 tweets\n",
      "Downloaded 1477 tweets\n",
      "Downloaded 1478 tweets\n",
      "Downloaded 1479 tweets\n",
      "Downloaded 1480 tweets\n",
      "Downloaded 1481 tweets\n",
      "Downloaded 1482 tweets\n",
      "Downloaded 1483 tweets\n",
      "Downloaded 1484 tweets\n",
      "Downloaded 1485 tweets\n",
      "Downloaded 1486 tweets\n",
      "Downloaded 1487 tweets\n",
      "Downloaded 1488 tweets\n",
      "Downloaded 1489 tweets\n",
      "Downloaded 1490 tweets\n",
      "Downloaded 1491 tweets\n",
      "Downloaded 1492 tweets\n",
      "Downloaded 1493 tweets\n",
      "Downloaded 1494 tweets\n",
      "Downloaded 1495 tweets\n",
      "Downloaded 1496 tweets\n",
      "Downloaded 1497 tweets\n",
      "Downloaded 1498 tweets\n",
      "Downloaded 1499 tweets\n",
      "Downloaded 1500 tweets\n",
      "Downloaded 1501 tweets\n",
      "Downloaded 1502 tweets\n",
      "Downloaded 1503 tweets\n",
      "Downloaded 1504 tweets\n",
      "Downloaded 1505 tweets\n",
      "Downloaded 1506 tweets\n",
      "Downloaded 1507 tweets\n",
      "Downloaded 1508 tweets\n",
      "Downloaded 1509 tweets\n",
      "Downloaded 1510 tweets\n",
      "Downloaded 1511 tweets\n",
      "Downloaded 1512 tweets\n",
      "Downloaded 1513 tweets\n",
      "Downloaded 1514 tweets\n",
      "Downloaded 1515 tweets\n",
      "Downloaded 1516 tweets\n",
      "Downloaded 1517 tweets\n",
      "Downloaded 1518 tweets\n",
      "Downloaded 1519 tweets\n",
      "Downloaded 1520 tweets\n",
      "Downloaded 1521 tweets\n",
      "Downloaded 1522 tweets\n",
      "Downloaded 1523 tweets\n",
      "Downloaded 1524 tweets\n",
      "Downloaded 1525 tweets\n",
      "Downloaded 1526 tweets\n",
      "Downloaded 1527 tweets\n",
      "Downloaded 1528 tweets\n",
      "Downloaded 1529 tweets\n",
      "Downloaded 1530 tweets\n",
      "Downloaded 1531 tweets\n",
      "Downloaded 1532 tweets\n",
      "Downloaded 1533 tweets\n",
      "Downloaded 1534 tweets\n",
      "Downloaded 1535 tweets\n",
      "Downloaded 1536 tweets\n",
      "Downloaded 1537 tweets\n",
      "Downloaded 1538 tweets\n",
      "Downloaded 1539 tweets\n",
      "Downloaded 1540 tweets\n",
      "Downloaded 1541 tweets\n",
      "Downloaded 1542 tweets\n",
      "Downloaded 1543 tweets\n",
      "Downloaded 1544 tweets\n",
      "Downloaded 1545 tweets\n",
      "Downloaded 1546 tweets\n",
      "Downloaded 1547 tweets\n",
      "Downloaded 1548 tweets\n",
      "Downloaded 1549 tweets\n",
      "Downloaded 1550 tweets\n",
      "Downloaded 1551 tweets\n",
      "Downloaded 1552 tweets\n",
      "Downloaded 1553 tweets\n",
      "Downloaded 1554 tweets\n",
      "Downloaded 1555 tweets\n",
      "Downloaded 1556 tweets\n",
      "Downloaded 1557 tweets\n",
      "Downloaded 1558 tweets\n",
      "Downloaded 1559 tweets\n",
      "Downloaded 1560 tweets\n",
      "Downloaded 1561 tweets\n",
      "Downloaded 1562 tweets\n",
      "Downloaded 1563 tweets\n",
      "Downloaded 1564 tweets\n",
      "Downloaded 1565 tweets\n",
      "Downloaded 1566 tweets\n",
      "Downloaded 1567 tweets\n",
      "Downloaded 1568 tweets\n",
      "Downloaded 1569 tweets\n",
      "Downloaded 1570 tweets\n",
      "Downloaded 1571 tweets\n",
      "Downloaded 1572 tweets\n",
      "Downloaded 1573 tweets\n",
      "Downloaded 1574 tweets\n",
      "Downloaded 1575 tweets\n",
      "Downloaded 1576 tweets\n",
      "Downloaded 1577 tweets\n",
      "Downloaded 1578 tweets\n",
      "Downloaded 1579 tweets\n",
      "Downloaded 1580 tweets\n",
      "Downloaded 1581 tweets\n",
      "Downloaded 1582 tweets\n",
      "Downloaded 1583 tweets\n",
      "Downloaded 1584 tweets\n",
      "Downloaded 1585 tweets\n",
      "Downloaded 1586 tweets\n",
      "Downloaded 1587 tweets\n",
      "Downloaded 1588 tweets\n",
      "Downloaded 1589 tweets\n",
      "Downloaded 1590 tweets\n",
      "Downloaded 1591 tweets\n",
      "Downloaded 1592 tweets\n",
      "Downloaded 1593 tweets\n",
      "Downloaded 1594 tweets\n",
      "Downloaded 1595 tweets\n",
      "Downloaded 1596 tweets\n",
      "Downloaded 1597 tweets\n",
      "Downloaded 1598 tweets\n",
      "Downloaded 1599 tweets\n",
      "Downloaded 1600 tweets\n",
      "Downloaded 1601 tweets\n",
      "Downloaded 1602 tweets\n",
      "Downloaded 1603 tweets\n",
      "Downloaded 1604 tweets\n",
      "Downloaded 1605 tweets\n",
      "Downloaded 1606 tweets\n",
      "Downloaded 1607 tweets\n",
      "Downloaded 1608 tweets\n",
      "Downloaded 1609 tweets\n",
      "Downloaded 1610 tweets\n",
      "Downloaded 1611 tweets\n",
      "Downloaded 1612 tweets\n",
      "Downloaded 1613 tweets\n",
      "Downloaded 1614 tweets\n",
      "Downloaded 1615 tweets\n",
      "Downloaded 1616 tweets\n",
      "Downloaded 1617 tweets\n",
      "Downloaded 1618 tweets\n",
      "Downloaded 1619 tweets\n",
      "Downloaded 1620 tweets\n",
      "Downloaded 1621 tweets\n",
      "Downloaded 1622 tweets\n",
      "Downloaded 1623 tweets\n",
      "Downloaded 1624 tweets\n",
      "Downloaded 1625 tweets\n",
      "Downloaded 1626 tweets\n",
      "Downloaded 1627 tweets\n",
      "Downloaded 1628 tweets\n",
      "Downloaded 1629 tweets\n",
      "Downloaded 1630 tweets\n",
      "Downloaded 1631 tweets\n",
      "Downloaded 1632 tweets\n",
      "Downloaded 1633 tweets\n",
      "Downloaded 1634 tweets\n",
      "Downloaded 1635 tweets\n",
      "Downloaded 1636 tweets\n",
      "Downloaded 1637 tweets\n",
      "Downloaded 1638 tweets\n",
      "Downloaded 1639 tweets\n",
      "Downloaded 1640 tweets\n",
      "Downloaded 1641 tweets\n",
      "Downloaded 1642 tweets\n",
      "Downloaded 1643 tweets\n",
      "Downloaded 1644 tweets\n",
      "Downloaded 1645 tweets\n",
      "Downloaded 1646 tweets\n",
      "Downloaded 1647 tweets\n",
      "Downloaded 1648 tweets\n",
      "Downloaded 1649 tweets\n",
      "Downloaded 1650 tweets\n",
      "Downloaded 1651 tweets\n",
      "Downloaded 1652 tweets\n",
      "Downloaded 1653 tweets\n",
      "Downloaded 1654 tweets\n",
      "Downloaded 1655 tweets\n",
      "Downloaded 1656 tweets\n",
      "Downloaded 1657 tweets\n",
      "Downloaded 1658 tweets\n",
      "Downloaded 1659 tweets\n",
      "Downloaded 1660 tweets\n",
      "Downloaded 1661 tweets\n",
      "Downloaded 1662 tweets\n",
      "Downloaded 1663 tweets\n",
      "Downloaded 1664 tweets\n",
      "Downloaded 1665 tweets\n",
      "Downloaded 1666 tweets\n",
      "Downloaded 1667 tweets\n",
      "Downloaded 1668 tweets\n",
      "Downloaded 1669 tweets\n",
      "Downloaded 1670 tweets\n",
      "Downloaded 1671 tweets\n",
      "Downloaded 1672 tweets\n",
      "Downloaded 1673 tweets\n",
      "Downloaded 1674 tweets\n",
      "Downloaded 1675 tweets\n",
      "Downloaded 1676 tweets\n",
      "Downloaded 1677 tweets\n",
      "Downloaded 1678 tweets\n",
      "Downloaded 1679 tweets\n",
      "Downloaded 1680 tweets\n",
      "Downloaded 1681 tweets\n",
      "Downloaded 1682 tweets\n",
      "Downloaded 1683 tweets\n",
      "Downloaded 1684 tweets\n",
      "Downloaded 1685 tweets\n",
      "Downloaded 1686 tweets\n",
      "Downloaded 1687 tweets\n",
      "Downloaded 1688 tweets\n",
      "Downloaded 1689 tweets\n",
      "Downloaded 1690 tweets\n",
      "Downloaded 1691 tweets\n",
      "Downloaded 1692 tweets\n",
      "Downloaded 1693 tweets\n",
      "Downloaded 1694 tweets\n",
      "Downloaded 1695 tweets\n",
      "Downloaded 1696 tweets\n",
      "Downloaded 1697 tweets\n",
      "Downloaded 1698 tweets\n",
      "Downloaded 1699 tweets\n",
      "Downloaded 1700 tweets\n",
      "Downloaded 1701 tweets\n",
      "Downloaded 1702 tweets\n",
      "Downloaded 1703 tweets\n",
      "Downloaded 1704 tweets\n",
      "Downloaded 1705 tweets\n",
      "Downloaded 1706 tweets\n",
      "Downloaded 1707 tweets\n",
      "Downloaded 1708 tweets\n",
      "Downloaded 1709 tweets\n",
      "Downloaded 1710 tweets\n",
      "Downloaded 1711 tweets\n",
      "Downloaded 1712 tweets\n",
      "Downloaded 1713 tweets\n",
      "Downloaded 1714 tweets\n",
      "Downloaded 1715 tweets\n",
      "Downloaded 1716 tweets\n",
      "Downloaded 1717 tweets\n",
      "Downloaded 1718 tweets\n",
      "Downloaded 1719 tweets\n",
      "Downloaded 1720 tweets\n",
      "Downloaded 1721 tweets\n",
      "Downloaded 1722 tweets\n",
      "Downloaded 1723 tweets\n",
      "Downloaded 1724 tweets\n",
      "Downloaded 1725 tweets\n",
      "Downloaded 1726 tweets\n",
      "Downloaded 1727 tweets\n",
      "Downloaded 1728 tweets\n",
      "Downloaded 1729 tweets\n",
      "Downloaded 1730 tweets\n",
      "Downloaded 1731 tweets\n",
      "Downloaded 1732 tweets\n",
      "Downloaded 1733 tweets\n",
      "Downloaded 1734 tweets\n",
      "Downloaded 1735 tweets\n",
      "some error : Failed to parse JSON payload: Expecting value: line 1 column 94 (char 93)\n",
      "Downloaded 1735 tweets, Saved to database\n",
      "Running time:313.03749108314514\n"
     ]
    }
   ],
   "source": [
    "searchQuery = '#Brexit'  # this is what we're searching for\n",
    "\n",
    "t = time.time()\n",
    "tweetsPerQry = 100  # this is the max the API permits\n",
    "\n",
    "# If results from a specific ID onwards are reqd, set since_id to that ID.\n",
    "# else default to no lower limit, go as far back as API allows\n",
    "sinceId = None\n",
    "\n",
    "# If results only below a specific ID are, set max_id to that ID.\n",
    "# else default to no upper limit, start from the most recent tweet matching the search query.\n",
    "max_id = 794547032857772032\n",
    "\n",
    "tweetCount = 1346\n",
    "print(\"Downloading tweets In Nov.\")\n",
    "\n",
    "while True:\n",
    "    try:\n",
    "        if (max_id <= 0):\n",
    "            if (not sinceId):\n",
    "                new_tweets = api.search(q=searchQuery, count=tweetsPerQry)\n",
    "            else:\n",
    "                new_tweets = api.search(q=searchQuery, count=tweetsPerQry,\n",
    "                                        since_id=sinceId)\n",
    "        else:\n",
    "            if (not sinceId):\n",
    "                new_tweets = api.search(q=searchQuery, count=tweetsPerQry,\n",
    "                                        max_id=str(max_id - 1))\n",
    "            else:\n",
    "                new_tweets = api.search(q=searchQuery, count=tweetsPerQry,\n",
    "                                        max_id=str(max_id - 1),\n",
    "                                        since_id=sinceId)\n",
    "        if not new_tweets:\n",
    "            print(\"No more tweets found\")\n",
    "            break\n",
    "        \n",
    "        Jan = True;\n",
    "        randomList = np.random.randint(0, len(new_tweets), [len(new_tweets),])\n",
    "        for index in randomList:\n",
    "            status = new_tweets[index]\n",
    "            if status._json['lang'] != 'en': continue\n",
    "            dic = {}\n",
    "            date = datetime.strptime(status._json['created_at'],'%a %b %d %H:%M:%S +%f %Y')\n",
    "            if date.month != 11: \n",
    "                Jan = False\n",
    "            else:\n",
    "                dic['loction'] = status._json['user']['location']\n",
    "                dic['text'] = status._json['text']\n",
    "                dic['created_at'] = status._json['created_at']\n",
    "                collection.insert_one(dic)\n",
    "                tweetCount += 1\n",
    "            break\n",
    "    \n",
    "        if not Jan: break\n",
    "`\n",
    "        print(\"Downloaded {0} tweets\".format(tweetCount))\n",
    "        max_id = new_tweets[-1].id\n",
    "    except tweepy.TweepError as e:\n",
    "        # Just exit if any error\n",
    "        print(\"some error : \" + str(e))\n",
    "        break\n",
    "\n",
    "print (\"Downloaded {0} tweets, Saved to database\".format(tweetCount))\n",
    "print(\"Running time:{}\".format(time.time() - t))"
   ]
  },
  {
   "cell_type": "code",
   "execution_count": 17,
   "metadata": {
    "collapsed": true
   },
   "outputs": [],
   "source": [
    "status = new_tweets[0]"
   ]
  },
  {
   "cell_type": "code",
   "execution_count": 13,
   "metadata": {
    "collapsed": false
   },
   "outputs": [
    {
     "data": {
      "text/plain": [
       "dict_keys(['source', 'is_quote_status', 'in_reply_to_status_id', 'metadata', 'possibly_sensitive', 'in_reply_to_user_id_str', 'in_reply_to_user_id', 'truncated', 'retweet_count', 'favorite_count', 'retweeted', 'geo', 'entities', 'id_str', 'contributors', 'user', 'place', 'lang', 'coordinates', 'text', 'created_at', 'in_reply_to_screen_name', 'favorited', 'in_reply_to_status_id_str', 'id'])"
      ]
     },
     "execution_count": 13,
     "metadata": {},
     "output_type": "execute_result"
    }
   ],
   "source": [
    "status._json.keys()"
   ]
  },
  {
   "cell_type": "code",
   "execution_count": 14,
   "metadata": {
    "collapsed": false
   },
   "outputs": [],
   "source": [
    "date = datetime.strptime(status._json['created_at'],'%a %b %d %H:%M:%S +%f %Y')"
   ]
  },
  {
   "cell_type": "code",
   "execution_count": 15,
   "metadata": {
    "collapsed": false
   },
   "outputs": [
    {
     "data": {
      "text/plain": [
       "datetime.datetime(2016, 11, 4, 14, 30, 40)"
      ]
     },
     "execution_count": 15,
     "metadata": {},
     "output_type": "execute_result"
    }
   ],
   "source": [
    "date"
   ]
  },
  {
   "cell_type": "code",
   "execution_count": 19,
   "metadata": {
    "collapsed": false
   },
   "outputs": [],
   "source": [
    "status1 = new_tweets[99]"
   ]
  },
  {
   "cell_type": "code",
   "execution_count": 15,
   "metadata": {
    "collapsed": false
   },
   "outputs": [
    {
     "data": {
      "text/plain": [
       "'it'"
      ]
     },
     "execution_count": 15,
     "metadata": {},
     "output_type": "execute_result"
    }
   ],
   "source": [
    "status._json['lang']"
   ]
  },
  {
   "cell_type": "code",
   "execution_count": 18,
   "metadata": {
    "collapsed": false
   },
   "outputs": [
    {
     "data": {
      "text/plain": [
       "'Fri Nov 04 02:01:41 +0000 2016'"
      ]
     },
     "execution_count": 18,
     "metadata": {},
     "output_type": "execute_result"
    }
   ],
   "source": [
    "status._json['created_at']"
   ]
  },
  {
   "cell_type": "code",
   "execution_count": 20,
   "metadata": {
    "collapsed": false,
    "scrolled": false
   },
   "outputs": [
    {
     "data": {
      "text/plain": [
       "'Fri Nov 04 01:53:24 +0000 2016'"
      ]
     },
     "execution_count": 20,
     "metadata": {},
     "output_type": "execute_result"
    }
   ],
   "source": [
    "status1._json['created_at']"
   ]
  },
  {
   "cell_type": "code",
   "execution_count": 9,
   "metadata": {
    "collapsed": false
   },
   "outputs": [],
   "source": [
    "max_id = new_tweets[-1].id"
   ]
  },
  {
   "cell_type": "code",
   "execution_count": 10,
   "metadata": {
    "collapsed": false
   },
   "outputs": [
    {
     "data": {
      "text/plain": [
       "794547032857772032"
      ]
     },
     "execution_count": 10,
     "metadata": {},
     "output_type": "execute_result"
    }
   ],
   "source": [
    "max_id"
   ]
  },
  {
   "cell_type": "code",
   "execution_count": 11,
   "metadata": {
    "collapsed": false
   },
   "outputs": [
    {
     "data": {
      "text/plain": [
       "'794547032857772031'"
      ]
     },
     "execution_count": 11,
     "metadata": {},
     "output_type": "execute_result"
    }
   ],
   "source": [
    "str(max_id - 1)"
   ]
  },
  {
   "cell_type": "code",
   "execution_count": 32,
   "metadata": {
    "collapsed": false
   },
   "outputs": [
    {
     "data": {
      "text/plain": [
       "(100,)"
      ]
     },
     "execution_count": 32,
     "metadata": {},
     "output_type": "execute_result"
    }
   ],
   "source": [
    "xx = np.random.randint(0,100,[100,])\n",
    "xx.shape"
   ]
  }
 ],
 "metadata": {
  "anaconda-cloud": {},
  "kernelspec": {
   "display_name": "Python [conda env:cs505]",
   "language": "python",
   "name": "conda-env-cs505-py"
  },
  "language_info": {
   "codemirror_mode": {
    "name": "ipython",
    "version": 3
   },
   "file_extension": ".py",
   "mimetype": "text/x-python",
   "name": "python",
   "nbconvert_exporter": "python",
   "pygments_lexer": "ipython3",
   "version": "3.5.2"
  }
 },
 "nbformat": 4,
 "nbformat_minor": 1
}
