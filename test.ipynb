{
 "cells": [
  {
   "cell_type": "code",
   "execution_count": 1,
   "metadata": {
    "collapsed": false
   },
   "outputs": [],
   "source": [
    "import tweepy, time, csv\n",
    "from datetime import datetime\n",
    "import numpy as np"
   ]
  },
  {
   "cell_type": "code",
   "execution_count": 2,
   "metadata": {
    "collapsed": true
   },
   "outputs": [],
   "source": [
    "Month = ['Jan','Feb','Mar','Apr','May','June','July','Aug','Sept','Oct','Nov']"
   ]
  },
  {
   "cell_type": "code",
   "execution_count": 3,
   "metadata": {
    "collapsed": false
   },
   "outputs": [],
   "source": [
    "consumer_key = 'r7hTS2dvvHkdNabqjv9JEU6zn'\n",
    "consumer_secret = 'jMuCrQPclUkbiMLsjBqOLso7pEKj5M4BMsJxVu8l7pKh7RFIc6'\n",
    "\n",
    "auth = tweepy.AppAuthHandler(consumer_key, consumer_secret)\n",
    "api = tweepy.API(auth, wait_on_rate_limit=True, wait_on_rate_limit_notify=True)\n",
    "\n",
    "if (not api):\n",
    "    print (\"Can't Authenticate\")\n",
    "    sys.exit(-1)"
   ]
  },
  {
   "cell_type": "code",
   "execution_count": 7,
   "metadata": {
    "collapsed": false,
    "scrolled": true
   },
   "outputs": [
    {
     "name": "stdout",
     "output_type": "stream",
     "text": [
      "Downloading tweets In Aug.\n",
      "No more tweets found\n",
      "Downloaded 0 tweets, Saved to database\n",
      "Running time:0.21561908721923828\n"
     ]
    }
   ],
   "source": [
    "searchQuery = '#Brexit'  # this is what we're searching for\n",
    "tweetsPerQry = 100  # this is the max the API permits\n",
    "\n",
    "# If results from a specific ID onwards are reqd, set since_id to that ID.\n",
    "# else default to no lower limit, go as far back as API allows\n",
    "sinceId = None\n",
    "\n",
    "# If results only below a specific ID are, set max_id to that ID.\n",
    "# else default to no upper limit, start from the most recent tweet matching the search query.\n",
    "max_id = 771322107066212352\n",
    "\n",
    "# fname = 'Tweets.csv'\n",
    "# f = open('Tweets.csv', \"+w\")\n",
    "# csv_writer = csv.writer(f)\n",
    "t = time.time()\n",
    "tweetCount = 0\n",
    "print(\"Downloading tweets In Aug.\")\n",
    "\n",
    "while True:\n",
    "    try:\n",
    "        if (max_id <= 0):\n",
    "            if (until > 0)\n",
    "            elif (not sinceId):\n",
    "                new_tweets = api.search(q=searchQuery, count=tweetsPerQry)\n",
    "            else:\n",
    "                new_tweets = api.search(q=searchQuery, count=tweetsPerQry,\n",
    "                                        since_id=sinceId)\n",
    "        else:\n",
    "            if (not sinceId):\n",
    "                new_tweets = api.search(q=searchQuery, count=tweetsPerQry,\n",
    "                                        max_id=str(max_id - 1))\n",
    "            else:\n",
    "                new_tweets = api.search(q=searchQuery, count=tweetsPerQry,\n",
    "                                        max_id=str(max_id - 1),\n",
    "                                        since_id=sinceId)\n",
    "        if not new_tweets:\n",
    "            print(\"No more tweets found\")\n",
    "            break\n",
    "        \n",
    "        Aug = False;\n",
    "        randomList = np.random.randint(0, len(new_tweets), [len(new_tweets),])\n",
    "        for index in randomList:\n",
    "            status = new_tweets[index]\n",
    "            if status._json['lang'] != 'en': continue\n",
    "            \n",
    "            date = datetime.strptime(status._json['created_at'],'%a %b %d %H:%M:%S +%f %Y')\n",
    "            if date.month != 8: \n",
    "                continue\n",
    "            else:\n",
    "                Aug = True\n",
    "            break\n",
    "    \n",
    "        if Aug: break\n",
    "            \n",
    "        print(\"Downloaded {0} tweets\".format(tweetCount))\n",
    "        max_id = new_tweets[-1].id\n",
    "    except tweepy.TweepError as e:\n",
    "        # Just exit if any error\n",
    "        print(\"some error : \" + str(e))\n",
    "        break\n",
    "#     finally: \n",
    "#         f.close()\n",
    "print (\"Downloaded {0} tweets, Saved to database\".format(tweetCount))\n",
    "print(\"Running time:{}\".format(time.time() - t))"
   ]
  },
  {
   "cell_type": "code",
   "execution_count": null,
   "metadata": {
    "collapsed": true
   },
   "outputs": [],
   "source": []
  },
  {
   "cell_type": "code",
   "execution_count": 17,
   "metadata": {
    "collapsed": true
   },
   "outputs": [],
   "source": [
    "status = new_tweets[0]"
   ]
  },
  {
   "cell_type": "code",
   "execution_count": 13,
   "metadata": {
    "collapsed": false
   },
   "outputs": [
    {
     "data": {
      "text/plain": [
       "dict_keys(['source', 'is_quote_status', 'in_reply_to_status_id', 'metadata', 'possibly_sensitive', 'in_reply_to_user_id_str', 'in_reply_to_user_id', 'truncated', 'retweet_count', 'favorite_count', 'retweeted', 'geo', 'entities', 'id_str', 'contributors', 'user', 'place', 'lang', 'coordinates', 'text', 'created_at', 'in_reply_to_screen_name', 'favorited', 'in_reply_to_status_id_str', 'id'])"
      ]
     },
     "execution_count": 13,
     "metadata": {},
     "output_type": "execute_result"
    }
   ],
   "source": [
    "status._json.keys()"
   ]
  },
  {
   "cell_type": "code",
   "execution_count": 14,
   "metadata": {
    "collapsed": false
   },
   "outputs": [],
   "source": [
    "date = datetime.strptime(status._json['created_at'],'%a %b %d %H:%M:%S +%f %Y')"
   ]
  },
  {
   "cell_type": "code",
   "execution_count": 15,
   "metadata": {
    "collapsed": false
   },
   "outputs": [
    {
     "data": {
      "text/plain": [
       "datetime.datetime(2016, 11, 4, 14, 30, 40)"
      ]
     },
     "execution_count": 15,
     "metadata": {},
     "output_type": "execute_result"
    }
   ],
   "source": [
    "date"
   ]
  },
  {
   "cell_type": "code",
   "execution_count": 19,
   "metadata": {
    "collapsed": false
   },
   "outputs": [],
   "source": [
    "status1 = new_tweets[99]"
   ]
  },
  {
   "cell_type": "code",
   "execution_count": 15,
   "metadata": {
    "collapsed": false
   },
   "outputs": [
    {
     "data": {
      "text/plain": [
       "'it'"
      ]
     },
     "execution_count": 15,
     "metadata": {},
     "output_type": "execute_result"
    }
   ],
   "source": [
    "status._json['lang']"
   ]
  },
  {
   "cell_type": "code",
   "execution_count": 18,
   "metadata": {
    "collapsed": false
   },
   "outputs": [
    {
     "data": {
      "text/plain": [
       "'Fri Nov 04 02:01:41 +0000 2016'"
      ]
     },
     "execution_count": 18,
     "metadata": {},
     "output_type": "execute_result"
    }
   ],
   "source": [
    "status._json['created_at']"
   ]
  },
  {
   "cell_type": "code",
   "execution_count": 20,
   "metadata": {
    "collapsed": false,
    "scrolled": false
   },
   "outputs": [
    {
     "data": {
      "text/plain": [
       "'Fri Nov 04 01:53:24 +0000 2016'"
      ]
     },
     "execution_count": 20,
     "metadata": {},
     "output_type": "execute_result"
    }
   ],
   "source": [
    "status1._json['created_at']"
   ]
  },
  {
   "cell_type": "code",
   "execution_count": 9,
   "metadata": {
    "collapsed": false
   },
   "outputs": [],
   "source": [
    "max_id = new_tweets[-1].id"
   ]
  },
  {
   "cell_type": "code",
   "execution_count": 10,
   "metadata": {
    "collapsed": false
   },
   "outputs": [
    {
     "data": {
      "text/plain": [
       "794547032857772032"
      ]
     },
     "execution_count": 10,
     "metadata": {},
     "output_type": "execute_result"
    }
   ],
   "source": [
    "max_id"
   ]
  },
  {
   "cell_type": "code",
   "execution_count": 11,
   "metadata": {
    "collapsed": false
   },
   "outputs": [
    {
     "data": {
      "text/plain": [
       "'794547032857772031'"
      ]
     },
     "execution_count": 11,
     "metadata": {},
     "output_type": "execute_result"
    }
   ],
   "source": [
    "str(max_id - 1)"
   ]
  },
  {
   "cell_type": "code",
   "execution_count": 32,
   "metadata": {
    "collapsed": false
   },
   "outputs": [
    {
     "data": {
      "text/plain": [
       "(100,)"
      ]
     },
     "execution_count": 32,
     "metadata": {},
     "output_type": "execute_result"
    }
   ],
   "source": [
    "xx = np.random.randint(0,100,[100,])\n",
    "xx.shape"
   ]
  }
 ],
 "metadata": {
  "anaconda-cloud": {},
  "kernelspec": {
   "display_name": "Python [conda env:cs505]",
   "language": "python",
   "name": "conda-env-cs505-py"
  },
  "language_info": {
   "codemirror_mode": {
    "name": "ipython",
    "version": 3
   },
   "file_extension": ".py",
   "mimetype": "text/x-python",
   "name": "python",
   "nbconvert_exporter": "python",
   "pygments_lexer": "ipython3",
   "version": "3.5.2"
  }
 },
 "nbformat": 4,
 "nbformat_minor": 1
}
