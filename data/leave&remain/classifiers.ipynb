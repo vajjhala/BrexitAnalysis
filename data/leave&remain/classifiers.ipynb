{
 "cells": [
  {
   "cell_type": "code",
   "execution_count": 2,
   "metadata": {
    "collapsed": false
   },
   "outputs": [
    {
     "name": "stdout",
     "output_type": "stream",
     "text": [
      "[nltk_data] Downloading package stopwords to\n",
      "[nltk_data]     C:\\Users\\User\\AppData\\Roaming\\nltk_data...\n",
      "[nltk_data]   Package stopwords is already up-to-date!\n"
     ]
    }
   ],
   "source": [
    "import csv\n",
    "import pandas as pd\n",
    "import numpy as np\n",
    "from sklearn.feature_extraction.text import CountVectorizer\n",
    "from nltk.corpus.reader.plaintext import PlaintextCorpusReader\n",
    "from pprint import pprint\n",
    "\n",
    "import nltk \n",
    "nltk.download('stopwords') \n",
    "\n",
    "from nltk.corpus import stopwords\n",
    "import nltk.stem\n",
    "import rpy2.robjects as ro\n",
    "import re\n",
    "import sklearn.metrics as metrics\n",
    "import matplotlib.pyplot as plt\n",
    "from scipy.sparse import csc_matrix\n",
    "%matplotlib inline "
   ]
  },
  {
   "cell_type": "code",
   "execution_count": 3,
   "metadata": {
    "collapsed": false
   },
   "outputs": [
    {
     "name": "stderr",
     "output_type": "stream",
     "text": [
      "C:\\Users\\User\\AppData\\Local\\Continuum\\Anaconda3\\lib\\site-packages\\IPython\\core\\interactiveshell.py:2717: DtypeWarning: Columns (1,2,5,6) have mixed types. Specify dtype option on import or set low_memory=False.\n",
      "  interactivity=interactivity, compiler=compiler, result=result)\n"
     ]
    }
   ],
   "source": [
    "filedf = pd.read_csv('total.csv', skipinitialspace=True)"
   ]
  },
  {
   "cell_type": "code",
   "execution_count": 4,
   "metadata": {
    "collapsed": false
   },
   "outputs": [
    {
     "data": {
      "text/plain": [
       "0    83614\n",
       "1    36405\n",
       "Name: label, dtype: int64"
      ]
     },
     "execution_count": 4,
     "metadata": {},
     "output_type": "execute_result"
    }
   ],
   "source": [
    "d  = filedf.loc[:,['text','label']]\n",
    "d['label'].value_counts()\n",
    "# corpus = d['text'].tolist()"
   ]
  },
  {
   "cell_type": "code",
   "execution_count": 5,
   "metadata": {
    "collapsed": true
   },
   "outputs": [],
   "source": [
    "d['Leave'] = (d['label'] == 0 )"
   ]
  },
  {
   "cell_type": "code",
   "execution_count": 6,
   "metadata": {
    "collapsed": false
   },
   "outputs": [
    {
     "data": {
      "text/plain": [
       "count     120019\n",
       "unique         2\n",
       "top         True\n",
       "freq       83614\n",
       "Name: Leave, dtype: object"
      ]
     },
     "execution_count": 6,
     "metadata": {},
     "output_type": "execute_result"
    }
   ],
   "source": [
    "d['Leave'].describe()"
   ]
  },
  {
   "cell_type": "code",
   "execution_count": 7,
   "metadata": {
    "collapsed": true
   },
   "outputs": [],
   "source": [
    "# '''Too many True, need to fix the data'''\n",
    "# dfT = d[d['Leave'] == True]\n",
    "# dfF = d[d['Leave'] == False]\n",
    "\n",
    "# x = dfF.shape[0]\n",
    "\n",
    "# dfT = dfT.iloc[:x, :]\n",
    "\n",
    "# dfT.shape\n",
    "\n",
    "# df = pd.concat( [dfT,dfF], axis= 0 )"
   ]
  },
  {
   "cell_type": "code",
   "execution_count": 8,
   "metadata": {
    "collapsed": true
   },
   "outputs": [],
   "source": [
    "part_one_df = pd.read_csv('location_total.csv', skipinitialspace=True)\n",
    "\n",
    "dTest =  part_one_df.loc[:,['text']]"
   ]
  },
  {
   "cell_type": "code",
   "execution_count": 9,
   "metadata": {
    "collapsed": true
   },
   "outputs": [],
   "source": [
    "stopwordsList = stopwords.words('english') + [\"pic.twitter\"]\n",
    "r = re.compile(r\"[^a-zA-Z]\")"
   ]
  },
  {
   "cell_type": "code",
   "execution_count": 10,
   "metadata": {
    "collapsed": false
   },
   "outputs": [],
   "source": [
    "def my_tokenizer(tweet):\n",
    "    tweet = tweet.lower()\n",
    "    return map( ( lambda i :nltk.stem.PorterStemmer().stem(re.sub(r,'',i)) ) ,\n",
    "                list(filter(lambda x: x not in stopwordsList,tweet.split())) )"
   ]
  },
  {
   "cell_type": "code",
   "execution_count": 11,
   "metadata": {
    "collapsed": false
   },
   "outputs": [],
   "source": [
    "'''Removing sparse terms'''\n",
    "vectorizer = CountVectorizer(tokenizer = my_tokenizer, min_df=0.005)\n",
    "X = vectorizer.fit_transform(d['text'].values.astype('str'))"
   ]
  },
  {
   "cell_type": "code",
   "execution_count": 12,
   "metadata": {
    "collapsed": false
   },
   "outputs": [
    {
     "name": "stdout",
     "output_type": "stream",
     "text": [
      "['', 'agre', 'anoth', 'anyon', 'argument', 'armi', 'articl', 'ask', 'back', 'bad', 'bank', 'bbc', 'bbcco', 'becom', 'believ', 'benefit', 'best', 'better', 'big', 'billion', 'border', 'bori', 'brexit', 'britain', 'british', 'brussel', 'busi', 'call', 'cameron', 'camp', 'campaign', 'cant', 'case', 'chanc', 'chang', 'claim', 'come', 'control', 'corrupt', 'cost', 'could', 'countri', 'dailysquibco', 'david', 'day', 'deal', 'debat', 'decid', 'democraci', 'doesnt', 'done', 'dont', 'econom', 'economi', 'end', 'eu', 'euro', 'europ', 'european', 'even', 'ever', 'everi', 'expressco', 'face', 'facebook', 'fact', 'fail', 'fall', 'far', 'farag', 'fb', 'fear', 'first', 'follow', 'free', 'freedom', 'fund', 'futur', 'german', 'germani', 'get', 'give', 'go', 'good', 'got', 'govern', 'great', 'happen', 'he', 'help', 'here', 'hope', 'hous', 'im', 'immigr', 'in', 'independ', 'independentco', 'interest', 'isnt', 'it', 'job', 'johnson', 'join', 'june', 'keep', 'know', 'labour', 'last', 'law', 'lead', 'leader', 'leav', 'left', 'less', 'let', 'lie', 'like', 'listen', 'live', 'london', 'look', 'lose', 'lot', 'love', 'lseclaimsinmilliontaxpayerfundedgovleafletuncoveredhtml', 'm', 'made', 'major', 'make', 'man', 'mani', 'market', 'may', 'mean', 'migrant', 'million', 'minist', 'money', 'movi', 'mp', 'much', 'must', 'nation', 'need', 'never', 'new', 'news', 'next', 'nh', 'nigel', 'noth', 'now', 'obama', 'oh', 'one', 'open', 'osborn', 'out', 'outsid', 'page', 'part', 'parti', 'pay', 'peopl', 'pictwitt', 'plan', 'pleas', 'pm', 'point', 'polit', 'politician', 'poll', 'posit', 'post', 'power', 'public', 'put', 'question', 'rd', 'read', 'real', 'realli', 'reason', 'referendum', 'remain', 'rememb', 'report', 'result', 'right', 'risk', 'rt', 'rule', 'run', 's', 'said', 'save', 'say', 'scare', 'scaremong', 'secur', 'see', 'seem', 'show', 'side', 'sovereignti', 'start', 'state', 'stay', 'still', 'stop', 'support', 'sure', 'take', 'talk', 'tax', 'telegraphco', 'tell', 'thank', 'that', 'theguardian', 'thi', 'thing', 'think', 'thought', 'threat', 'time', 'today', 'tori', 'trade', 'tri', 'true', 'trust', 'truth', 'turkey', 'uk', 'union', 'unit', 'us', 'use', 'via', 'view', 'vote', 'voter', 'want', 'war', 'warn', 'watch', 'way', 'week', 'well', 'were', 'what', 'win', 'without', 'wonder', 'wont', 'word', 'work', 'worker', 'world', 'would', 'wrong', 'ye', 'year', 'yet', 'you', 'your', 'youtub']\n"
     ]
    }
   ],
   "source": [
    "all_terms = vectorizer.get_feature_names()\n",
    "print(all_terms)"
   ]
  },
  {
   "cell_type": "code",
   "execution_count": 13,
   "metadata": {
    "collapsed": false
   },
   "outputs": [],
   "source": [
    "'''A sparse term document matrix'''\n",
    "sparse_df = pd.SparseDataFrame([ pd.SparseSeries(X[i].toarray().ravel()) \n",
    "                              for i in np.arange(X.shape[0]) ], columns = all_terms)"
   ]
  },
  {
   "cell_type": "code",
   "execution_count": 14,
   "metadata": {
    "collapsed": false
   },
   "outputs": [
    {
     "name": "stdout",
     "output_type": "stream",
     "text": [
      "268\n"
     ]
    }
   ],
   "source": [
    "sparse_df.drop(sparse_df.columns[0],axis=1,inplace=True)\n",
    "\n",
    "term_freq = sparse_df.sum(axis = 0)\n",
    "print(sum(term_freq >= 20))\n",
    "\n",
    "sparse_df['Leave'] = d['Leave']"
   ]
  },
  {
   "cell_type": "code",
   "execution_count": 15,
   "metadata": {
    "collapsed": true
   },
   "outputs": [],
   "source": [
    "'''Sparse term-document matrex to test on'''\n",
    "v = CountVectorizer(tokenizer = my_tokenizer, min_df=0.005)\n",
    "Y = v.fit_transform(dTest['text'].values.astype('str'))\n",
    "\n",
    "all_test_terms = v.get_feature_names()"
   ]
  },
  {
   "cell_type": "code",
   "execution_count": 16,
   "metadata": {
    "collapsed": false
   },
   "outputs": [],
   "source": [
    "sparseT = pd.SparseDataFrame([ pd.SparseSeries(Y[i].toarray().ravel()) \n",
    "                              for i in np.arange(Y.shape[0]) ], columns = all_test_terms)"
   ]
  },
  {
   "cell_type": "code",
   "execution_count": 17,
   "metadata": {
    "collapsed": false
   },
   "outputs": [
    {
     "name": "stdout",
     "output_type": "stream",
     "text": [
      "217\n",
      "{'', 'referendum', 'fund', 's', 'world', 'leader', 'never', 'big', 'thi', 'next', 'real', 'osborn', 'money', 'plan', 'david', 'tell', 'eu', 'control', 'now', 'let', 'polit', 'rt', 'work', 'pictwitt', 'cant', 'point', 'start', 'pm', 'posit', 'week', 'even', 'made', 'labour', 'pleas', 'much', 'hous', 'thought', 'bank', 'british', 'well', 'economi', 'free', 'bbc', 'europ', 'back', 'britain', 'busi', 'get', 'nigel', 'come', 'noth', 'poll', 'politician', 'end', 'need', 'reason', 'last', 'report', 'union', 'lose', 'bbcco', 'chang', 'econom', 'euro', 'johnson', 'talk', 'cost', 'open', 'news', 'thing', 'nh', 'must', 'stop', 'london', 'look', 'brexit', 'leav', 'first', 'peopl', 'way', 'us', 'great', 'warn', 'join', 'result', 'lead', 'interest', 'in', 'follow', 'bori', 'take', 'that', 'isnt', 'european', 'ask', 'trade', 'part', 'believ', 'put', 'ever', 'mean', 'farag', 'independentco', 'hope', 'countri', 'see', 'want', 'yet', 'help', 'know', 'bad', 'done', 'said', 'win', 'would', 'case', 'got', 'june', 'm', 'view', 'right', 'power', 'face', 'state', 'major', 'debat', 'what', 'obama', 'better', 'deal', 'ye', 'live', 'tori', 'govern', 'wrong', 'telegraphco', 'voter', 'seem', 'fear', 'thank', 'law', 'new', 'year', 'articl', 'give', 'may', 'uk', 'via', 'run', 'here', 'sure', 'job', 'becom', 'use', 'today', 'wont', 'realli', 'think', 'best', 'read', 'happen', 'claim', 'like', 'dont', 'fall', 'tri', 'lie', 'far', 'side', 'good', 'million', 'parti', 'brussel', 'could', 'mp', 'democraci', 'nation', 'question', 'stay', 'you', 'post', 'futur', 'love', 'im', 'independ', 'doesnt', 'germani', 'unit', 'say', 'it', 'market', 'cameron', 'time', 'day', 'left', 'out', 'one', 'immigr', 'lot', 'show', 'make', 'risk', 'theguardian', 'call', 'keep', 'mani', 'remain', 'vote', 'go', 'youtub', 'watch', 'support', 'anoth', 'were', 'still', 'minist', 'campaign'}\n"
     ]
    }
   ],
   "source": [
    "common_cols = set()\n",
    "common_cols = set(all_test_terms) & set(all_terms)\n",
    "print(len(common_cols))\n",
    "print(common_cols)\n",
    "cols = list(common_cols)"
   ]
  },
  {
   "cell_type": "code",
   "execution_count": 18,
   "metadata": {
    "collapsed": false
   },
   "outputs": [],
   "source": [
    "# features_count = X.sum(axis=0).tolist()[0][1:]\n",
    "# features_names =  vectorizer.get_feature_names()[1:]\n",
    "# features = pd.DataFrame(list(zip(features_names, features_count)), \n",
    "#                                 columns=['features', 'count']\n",
    "#                                 ).sort_values(by=['count'], ascending=False)"
   ]
  },
  {
   "cell_type": "code",
   "execution_count": 19,
   "metadata": {
    "collapsed": false
   },
   "outputs": [],
   "source": [
    "# a = [i for i in range(1,sparse_df.shape[1])]"
   ]
  },
  {
   "cell_type": "code",
   "execution_count": 20,
   "metadata": {
    "collapsed": false
   },
   "outputs": [
    {
     "name": "stdout",
     "output_type": "stream",
     "text": [
      "(36405, 269)\n",
      "(83614, 269)\n"
     ]
    }
   ],
   "source": [
    "s_df1 = sparse_df[(sparse_df['Leave']==False)]\n",
    "print(s_df1.shape)\n",
    "s_df2 = sparse_df[(sparse_df['Leave']==True)]\n",
    "print(s_df2.shape)"
   ]
  },
  {
   "cell_type": "code",
   "execution_count": 21,
   "metadata": {
    "collapsed": false
   },
   "outputs": [],
   "source": [
    "Sdf = pd.concat( [s_df1, s_df2], axis= 0 )"
   ]
  },
  {
   "cell_type": "code",
   "execution_count": 22,
   "metadata": {
    "collapsed": false
   },
   "outputs": [
    {
     "name": "stdout",
     "output_type": "stream",
     "text": [
      "(120019, 216)\n"
     ]
    }
   ],
   "source": [
    "S_train = Sdf[cols[1:]]\n",
    "print(S_train.shape)"
   ]
  },
  {
   "cell_type": "code",
   "execution_count": 23,
   "metadata": {
    "collapsed": false
   },
   "outputs": [
    {
     "data": {
      "text/plain": [
       "(120019, 1)"
      ]
     },
     "execution_count": 23,
     "metadata": {},
     "output_type": "execute_result"
    }
   ],
   "source": [
    "yrg_train = Sdf[['Leave']]\n",
    "yrg_train.shape"
   ]
  },
  {
   "cell_type": "code",
   "execution_count": 24,
   "metadata": {
    "collapsed": false
   },
   "outputs": [
    {
     "name": "stdout",
     "output_type": "stream",
     "text": [
      "(71276, 216)\n"
     ]
    }
   ],
   "source": [
    "S_test  = sparseT[cols[1:]]\n",
    "print(S_test.shape)"
   ]
  },
  {
   "cell_type": "markdown",
   "metadata": {},
   "source": [
    "# CART Model"
   ]
  },
  {
   "cell_type": "code",
   "execution_count": 25,
   "metadata": {
    "collapsed": false
   },
   "outputs": [
    {
     "data": {
      "text/plain": [
       "DecisionTreeClassifier(class_weight=None, criterion='gini', max_depth=8,\n",
       "            max_features=None, max_leaf_nodes=None,\n",
       "            min_impurity_split=1e-07, min_samples_leaf=1,\n",
       "            min_samples_split=2, min_weight_fraction_leaf=0.0,\n",
       "            presort=False, random_state=None, splitter='best')"
      ]
     },
     "execution_count": 25,
     "metadata": {},
     "output_type": "execute_result"
    }
   ],
   "source": [
    "from sklearn import tree\n",
    "modelCART = tree.DecisionTreeClassifier(max_depth = 8)\n",
    "modelCART.fit(S_train, yrg_train)"
   ]
  },
  {
   "cell_type": "code",
   "execution_count": 26,
   "metadata": {
    "collapsed": true
   },
   "outputs": [],
   "source": [
    "predictCART = modelCART.predict(S_test)"
   ]
  },
  {
   "cell_type": "code",
   "execution_count": 27,
   "metadata": {
    "collapsed": false
   },
   "outputs": [
    {
     "name": "stdout",
     "output_type": "stream",
     "text": [
      "[ True  True  True ...,  True  True  True]\n"
     ]
    }
   ],
   "source": [
    "print(predictCART)"
   ]
  },
  {
   "cell_type": "code",
   "execution_count": 28,
   "metadata": {
    "collapsed": false
   },
   "outputs": [
    {
     "name": "stdout",
     "output_type": "stream",
     "text": [
      "71276 69346\n"
     ]
    }
   ],
   "source": [
    "count = 0 \n",
    "for i in list(predictCART):\n",
    "    if i == True:\n",
    "        count = count+ 1\n",
    "print( len(list(predictCART)),count)"
   ]
  },
  {
   "cell_type": "code",
   "execution_count": 29,
   "metadata": {
    "collapsed": true
   },
   "outputs": [],
   "source": [
    "predictCART_out = map( (lambda x : 0 if x == True else 1) ,(predictCART) )"
   ]
  },
  {
   "cell_type": "markdown",
   "metadata": {},
   "source": [
    "# Random Forests"
   ]
  },
  {
   "cell_type": "code",
   "execution_count": 30,
   "metadata": {
    "collapsed": true
   },
   "outputs": [],
   "source": [
    "from sklearn.ensemble import RandomForestClassifier\n",
    "modelRF = RandomForestClassifier(n_estimators=100, criterion='entropy', oob_score = True, random_state = 123)"
   ]
  },
  {
   "cell_type": "code",
   "execution_count": 31,
   "metadata": {
    "collapsed": false,
    "scrolled": true
   },
   "outputs": [
    {
     "data": {
      "text/plain": [
       "RandomForestClassifier(bootstrap=True, class_weight=None, criterion='entropy',\n",
       "            max_depth=None, max_features='auto', max_leaf_nodes=None,\n",
       "            min_impurity_split=1e-07, min_samples_leaf=1,\n",
       "            min_samples_split=2, min_weight_fraction_leaf=0.0,\n",
       "            n_estimators=100, n_jobs=1, oob_score=True, random_state=123,\n",
       "            verbose=0, warm_start=False)"
      ]
     },
     "execution_count": 31,
     "metadata": {},
     "output_type": "execute_result"
    }
   ],
   "source": [
    "modelRF.fit(S_train, list(yrg_train.ix[:,0]))"
   ]
  },
  {
   "cell_type": "code",
   "execution_count": 32,
   "metadata": {
    "collapsed": false
   },
   "outputs": [
    {
     "name": "stdout",
     "output_type": "stream",
     "text": [
      "[ True  True False ...,  True  True  True]\n"
     ]
    }
   ],
   "source": [
    "predictRF = modelRF.predict(S_test)\n",
    "print(predictRF)"
   ]
  },
  {
   "cell_type": "code",
   "execution_count": 33,
   "metadata": {
    "collapsed": false
   },
   "outputs": [
    {
     "name": "stdout",
     "output_type": "stream",
     "text": [
      "71276 60010\n"
     ]
    }
   ],
   "source": [
    "count = 0 \n",
    "for i in list(predictRF):\n",
    "    if i == True:\n",
    "        count = count+ 1\n",
    "print( len(list(predictRF)),count)"
   ]
  },
  {
   "cell_type": "code",
   "execution_count": 34,
   "metadata": {
    "collapsed": true
   },
   "outputs": [],
   "source": [
    "# predictRF_out = map( (lambda x : 0 if x == True else 1) ,(predictRF) )"
   ]
  },
  {
   "cell_type": "markdown",
   "metadata": {},
   "source": [
    "# Logistic Regression"
   ]
  },
  {
   "cell_type": "code",
   "execution_count": 35,
   "metadata": {
    "collapsed": true
   },
   "outputs": [],
   "source": [
    "y_train = list (map((lambda x: 1 if x == True else 0 ),(list(yrg_train.ix[:,0])) ) )"
   ]
  },
  {
   "cell_type": "code",
   "execution_count": 36,
   "metadata": {
    "collapsed": false
   },
   "outputs": [
    {
     "data": {
      "text/plain": [
       "LogisticRegression(C=1.0, class_weight=None, dual=False, fit_intercept=True,\n",
       "          intercept_scaling=1, max_iter=100, multi_class='ovr', n_jobs=-1,\n",
       "          penalty='l2', random_state=123, solver='liblinear', tol=0.0001,\n",
       "          verbose=0, warm_start=False)"
      ]
     },
     "execution_count": 36,
     "metadata": {},
     "output_type": "execute_result"
    }
   ],
   "source": [
    "from sklearn.linear_model import LogisticRegression\n",
    "modelL = LogisticRegression(penalty= 'l2', random_state= 123, n_jobs = -1)\n",
    "modelL.fit(S_train, y_train)"
   ]
  },
  {
   "cell_type": "code",
   "execution_count": 37,
   "metadata": {
    "collapsed": true
   },
   "outputs": [],
   "source": [
    "predictL = modelL.predict(S_test )"
   ]
  },
  {
   "cell_type": "code",
   "execution_count": 38,
   "metadata": {
    "collapsed": false
   },
   "outputs": [],
   "source": [
    "# predictL"
   ]
  },
  {
   "cell_type": "code",
   "execution_count": 39,
   "metadata": {
    "collapsed": false
   },
   "outputs": [
    {
     "name": "stdout",
     "output_type": "stream",
     "text": [
      "71276 70800\n"
     ]
    }
   ],
   "source": [
    "count = 0 \n",
    "for i in list(predictL):\n",
    "    if i == 1:\n",
    "        count = count+ 1\n",
    "print( len(list(predictL)),count)"
   ]
  },
  {
   "cell_type": "markdown",
   "metadata": {},
   "source": [
    "# Linear Regression"
   ]
  },
  {
   "cell_type": "code",
   "execution_count": 40,
   "metadata": {
    "collapsed": false
   },
   "outputs": [],
   "source": [
    "y = list (map((lambda x: 0 if x == True else 1 ),(list(yrg_train.ix[:,0])) ))"
   ]
  },
  {
   "cell_type": "code",
   "execution_count": 41,
   "metadata": {
    "collapsed": false
   },
   "outputs": [
    {
     "data": {
      "text/plain": [
       "LinearRegression(copy_X=True, fit_intercept=True, n_jobs=-1, normalize=True)"
      ]
     },
     "execution_count": 41,
     "metadata": {},
     "output_type": "execute_result"
    }
   ],
   "source": [
    "from sklearn.linear_model import LinearRegression\n",
    "modelRF = LinearRegression(normalize = True, n_jobs = -1)\n",
    "modelRF.fit(S_train,y)"
   ]
  },
  {
   "cell_type": "code",
   "execution_count": 42,
   "metadata": {
    "collapsed": false
   },
   "outputs": [],
   "source": [
    "predictRF = modelRF.predict(S_test)"
   ]
  },
  {
   "cell_type": "code",
   "execution_count": 43,
   "metadata": {
    "collapsed": false
   },
   "outputs": [],
   "source": [
    "pred = list ( map( ( lambda x: 0 if (x < 0.25) else 1 ),( list(predictRF) ) ) )"
   ]
  },
  {
   "cell_type": "code",
   "execution_count": 44,
   "metadata": {
    "collapsed": false
   },
   "outputs": [
    {
     "name": "stdout",
     "output_type": "stream",
     "text": [
      "71276 19875\n"
     ]
    }
   ],
   "source": [
    "count = 0 \n",
    "for i in pred:\n",
    "    if i == 1:\n",
    "        count = count+ 1\n",
    "print( len(pred),count) "
   ]
  },
  {
   "cell_type": "code",
   "execution_count": 45,
   "metadata": {
    "collapsed": true
   },
   "outputs": [],
   "source": [
    "part_one_df['Remain'] = pred"
   ]
  },
  {
   "cell_type": "code",
   "execution_count": 46,
   "metadata": {
    "collapsed": false
   },
   "outputs": [],
   "source": [
    "march = part_one_df.iloc[:2346,:] \n",
    "april = part_one_df.iloc[2347:5209,:]\n",
    "may   = part_one_df.iloc[5210:9999,:]\n",
    "june  = part_one_df.iloc[10000:48088,:]\n",
    "july  = part_one_df.iloc[48088:63104,:]\n",
    "aug   = part_one_df.iloc[63104:66702,:]\n",
    "sept  = part_one_df.iloc[66703:,:]"
   ]
  },
  {
   "cell_type": "code",
   "execution_count": 47,
   "metadata": {
    "collapsed": false
   },
   "outputs": [
    {
     "name": "stdout",
     "output_type": "stream",
     "text": [
      "March\n",
      "0    1585\n",
      "1     761\n",
      "Name: Remain, dtype: int64\n",
      "April\n",
      "0    1891\n",
      "1     971\n",
      "Name: Remain, dtype: int64\n",
      "May\n",
      "0    3224\n",
      "1    1565\n",
      "Name: Remain, dtype: int64\n",
      "June\n",
      "0    28377\n",
      "1     9711\n",
      "Name: Remain, dtype: int64\n",
      "July\n",
      "0    10609\n",
      "1     4407\n",
      "Name: Remain, dtype: int64\n",
      "August\n",
      "0    2524\n",
      "1    1074\n",
      "Name: Remain, dtype: int64\n",
      "Spetember\n",
      "0    3188\n",
      "1    1385\n",
      "Name: Remain, dtype: int64\n"
     ]
    }
   ],
   "source": [
    "print(\"March\")\n",
    "print(march['Remain'].value_counts())\n",
    "\n",
    "print(\"April\")\n",
    "print(april['Remain'].value_counts())\n",
    "\n",
    "print(\"May\")\n",
    "print(may['Remain'].value_counts())\n",
    "\n",
    "print(\"June\")\n",
    "print(june['Remain'].value_counts())\n",
    "\n",
    "print(\"July\")\n",
    "print(july['Remain'].value_counts())\n",
    "\n",
    "print(\"August\")\n",
    "print(aug['Remain'].value_counts())\n",
    "\n",
    "print(\"Spetember\")\n",
    "print(sept['Remain'].value_counts())"
   ]
  },
  {
   "cell_type": "code",
   "execution_count": 70,
   "metadata": {
    "collapsed": false
   },
   "outputs": [
    {
     "data": {
      "image/png": "[encoded data removed]",
      "text/plain": [
       "<matplotlib.figure.Figure at 0x1af07711908>"
      ]
     },
     "metadata": {},
     "output_type": "display_data"
    }
   ],
   "source": [
    "n_groups = 7\n",
    "leave = [1585, 1891, 3224, 28377, 10609, 2524, 3188 ]\n",
    "remain = [761, 971, 1565, 9711, 4407, 1074, 1385 ]\n",
    "\n",
    "fig, ax = plt.subplots()\n",
    "\n",
    "index = np.arange(n_groups)\n",
    "bar_width = 0.30\n",
    "\n",
    "opacity = 0.4\n",
    "error_config = {'ecolor': '0.3'}\n",
    "\n",
    "rects1 = plt.bar(index, remain, bar_width,\n",
    "                 alpha=opacity,\n",
    "                 color='b',\n",
    "                 error_kw=error_config,\n",
    "                 label='Remain')\n",
    "\n",
    "rects2 = plt.bar(index + bar_width, leave, bar_width,\n",
    "                 alpha=opacity,\n",
    "                 color='r',\n",
    "                 error_kw=error_config,\n",
    "                 label='Leave')\n",
    "\n",
    "plt.xlabel('Group')\n",
    "plt.ylabel('Scores')\n",
    "plt.title('Remain Vs Leave')\n",
    "plt.xticks(index + bar_width, ('March','April','May','June','July','August','September') )\n",
    "plt.legend()\n",
    "\n",
    "plt.tight_layout()\n",
    "plt.savefig('remain_leave.png')\n",
    "plt.show()"
   ]
  },
  {
   "cell_type": "code",
   "execution_count": 49,
   "metadata": {
    "collapsed": true
   },
   "outputs": [],
   "source": [
    "list_tuple = list(zip(remain,leave))"
   ]
  },
  {
   "cell_type": "code",
   "execution_count": 50,
   "metadata": {
    "collapsed": false
   },
   "outputs": [
    {
     "data": {
      "text/plain": [
       "[(761, 1585),\n",
       " (971, 1891),\n",
       " (1565, 3224),\n",
       " (9711, 28377),\n",
       " (4407, 10609),\n",
       " (1074, 2524),\n",
       " (1385, 3188)]"
      ]
     },
     "execution_count": 50,
     "metadata": {},
     "output_type": "execute_result"
    }
   ],
   "source": [
    "list_tuple"
   ]
  },
  {
   "cell_type": "code",
   "execution_count": 63,
   "metadata": {
    "collapsed": false
   },
   "outputs": [
    {
     "name": "stdout",
     "output_type": "stream",
     "text": [
      "[0.32438192668371696, 0.3392732354996506, 0.3267905617039048, 0.2549621928166352, 0.29348694725626, 0.29849916620344635, 0.3028646402799038]\n"
     ]
    }
   ],
   "source": [
    "ratios = list( map((lambda x : x[0] / ( x[0]+x[1] ) ), (list_tuple ) ) )\n",
    "print(ratios)"
   ]
  },
  {
   "cell_type": "code",
   "execution_count": 68,
   "metadata": {
    "collapsed": false
   },
   "outputs": [
    {
     "data": {
      "image/png": "[encoded data removed]",
      "text/plain": [
       "<matplotlib.figure.Figure at 0x1af083532e8>"
      ]
     },
     "metadata": {},
     "output_type": "display_data"
    }
   ],
   "source": [
    "from scipy.interpolate import interp1d\n",
    "x = np.array([1,2,3,4,5,6,7])\n",
    "y = np.array(ratios)\n",
    "\n",
    "my_xticks = ['March','April','May','June','July','August','September']\n",
    "\n",
    "plt.xlabel('Months')\n",
    "plt.ylabel('Ration of Leave / Total')\n",
    "plt.title('Leave Trend')\n",
    "\n",
    "x_smooth = np.linspace(x.min(),x.max(),300)\n",
    "y_smooth = spline(x,y,x_smooth)\n",
    "\n",
    "plt.xticks(x, my_xticks)\n",
    "plt.tight_layout()\n",
    "plt.grid(alpha=0.8)\n",
    "plt.plot(x_smooth, y_smooth)\n",
    "\n",
    "plt.savefig('leave_trend.png')\n",
    "plt.show()"
   ]
  },
  {
   "cell_type": "code",
   "execution_count": 53,
   "metadata": {
    "collapsed": false
   },
   "outputs": [],
   "source": [
    "dTest['Remain'] = pred"
   ]
  },
  {
   "cell_type": "code",
   "execution_count": 54,
   "metadata": {
    "collapsed": false
   },
   "outputs": [],
   "source": [
    "dTest.to_csv('result.csv', sep=',')"
   ]
  }
 ],
 "metadata": {
  "anaconda-cloud": {},
  "kernelspec": {
   "display_name": "Python [conda root]",
   "language": "python",
   "name": "conda-root-py"
  },
  "language_info": {
   "codemirror_mode": {
    "name": "ipython",
    "version": 3
   },
   "file_extension": ".py",
   "mimetype": "text/x-python",
   "name": "python",
   "nbconvert_exporter": "python",
   "pygments_lexer": "ipython3",
   "version": "3.5.2"
  }
 },
 "nbformat": 4,
 "nbformat_minor": 1
}
