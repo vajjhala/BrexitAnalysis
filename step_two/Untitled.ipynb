{
 "cells": [
  {
   "cell_type": "code",
   "execution_count": 2,
   "metadata": {
    "collapsed": true
   },
   "outputs": [],
   "source": [
    "import pandas as pd\n",
    "import numpy as np"
   ]
  },
  {
   "cell_type": "code",
   "execution_count": 8,
   "metadata": {
    "collapsed": true
   },
   "outputs": [],
   "source": [
    "df = pd.read_csv('TweetsMay.csv')\n",
    "df.drop(['Unnamed: 0'], axis=1, inplace=True)\n",
    "df.fillna(False, inplace=True)"
   ]
  },
  {
   "cell_type": "code",
   "execution_count": 11,
   "metadata": {
    "collapsed": false
   },
   "outputs": [
    {
     "data": {
      "text/plain": [
       "0       truth,eu,brexit,illuminati rothschild,youtube,...\n",
       "1       end of the eu,brussels fears devastating domin...\n",
       "2       geenstijl,text,dutch video,english,condell,bre...\n",
       "3                         will,lead,pedo pal,patrick rock\n",
       "4                             apac currency corner,brexit\n",
       "5            high fiber cereal,assists intestinal transit\n",
       "6                            brexit surge,happening,uk,eu\n",
       "7                                  gibraltar,via,… …,span\n",
       "8                islamic,economic migrants,european union\n",
       "9                    flesh-eating,disease sweeps,refugees\n",
       "10                                           video,brexit\n",
       "11                      grandmother,brexit,uk,ian collins\n",
       "12      tonights,brexit the movie full film,youtube,kx...\n",
       "13                            mark carney,eu,risky choice\n",
       "14      vote,migration plan,toddler 's,brexit,campaign...\n",
       "15      dark aftermath,brexit,anti-eu youtube,v=ja2wdz...\n",
       "16                                     brexit,actual vote\n",
       "17                                        dean,britain,eu\n",
       "18              goddamn stupid,eu,cookie notification law\n",
       "19                                 eu uk,who,indian curry\n",
       "20                                               vote lol\n",
       "21      tory,chris grayling,scottish independence poll...\n",
       "22                brexit,utm_medium=twitter … pic.twitter\n",
       "23      eu,boris,gove,tough new immigration system,brexit\n",
       "24      eu,boris,gove,tough new immigration system,bre...\n",
       "25              top,economist calls,osborne,resign,brexit\n",
       "26                        uk,brexit guardian,poll reveals\n",
       "27                cast,dad,'s army,brexit,capt,mainwaring\n",
       "28            chris grayling,brexit,young people,guardian\n",
       "29               stephen hawking,brexit,uk,contact aliens\n",
       "                              ...                        \n",
       "4777    likely model,wto option,1697825-european-union...\n",
       "4778    excellent,quick interview,ukip,nigel farrage,b...\n",
       "4779                                 icm,poll pic.twitter\n",
       "4780    christian lord donates £1,mer-christian-lord-d...\n",
       "4781                        brexit,bureaucratic subsidies\n",
       "4782    si,royaume-uni,sort ce sera,l'europe.en fait i...\n",
       "4783              funny,leftards,u debate them-because,ps\n",
       "4784                                  legislative process\n",
       "4785                               msm,hide things,brexit\n",
       "4786    great debate,dan,brexit,stayed,freedom economi...\n",
       "4787    brexit,free british farmers,eu,red tape minist...\n",
       "4788                                                  snp\n",
       "4789                                                wales\n",
       "4790    eu referendum,eu will adopt complete dictators...\n",
       "4791    etp forget barack obama,'s lecture,brexit,indi...\n",
       "4792    pro eu,claim,eu,uk safer,does,being-in-eu-make...\n",
       "4793                                      ttip,nhs,hannan\n",
       "4794                   outers,uk,olski-polish-plumbers- …\n",
       "4795    nicola sturgeon,brexit,'increase demand,scotti...\n",
       "4796                                                 self\n",
       "4797             leadership challenge,plenty,georgie,haha\n",
       "4798                                    eu,brexit,england\n",
       "4799          watched,spectator,in,argument whatsoever,in\n",
       "4800    brexit,finanzindustrie,die,union und der city ...\n",
       "4801                                   voters pic.twitter\n",
       "4802                     low turn,mps,wo n't,'s democracy\n",
       "4803    % τα ποσοστά των βρετανών υπέρ και κατά του,br...\n",
       "4804    junior doctors,be striking,were,unior-doctors-...\n",
       "4805    uber-cultural marxist,european civilisation,ge...\n",
       "4806    tony benn,eu,list=pl4ok7jmgwbvhjozolij-jqnorrk...\n",
       "Name: wordnouns, dtype: object"
      ]
     },
     "execution_count": 11,
     "metadata": {},
     "output_type": "execute_result"
    }
   ],
   "source": [
    "df['wordnouns']"
   ]
  }
 ],
 "metadata": {
  "anaconda-cloud": {},
  "kernelspec": {
   "display_name": "Python [conda env:cs505]",
   "language": "python",
   "name": "conda-env-cs505-py"
  },
  "language_info": {
   "codemirror_mode": {
    "name": "ipython",
    "version": 3
   },
   "file_extension": ".py",
   "mimetype": "text/x-python",
   "name": "python",
   "nbconvert_exporter": "python",
   "pygments_lexer": "ipython3",
   "version": "3.5.2"
  }
 },
 "nbformat": 4,
 "nbformat_minor": 1
}
